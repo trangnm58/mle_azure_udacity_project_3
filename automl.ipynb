{
 "cells": [
  {
   "cell_type": "markdown",
   "metadata": {},
   "source": [
    "# Automated ML\n",
    "\n",
    "TODO: Import Dependencies. In the cell below, import all the dependencies that you will need to complete the project."
   ]
  },
  {
   "cell_type": "code",
   "execution_count": 1,
   "metadata": {
    "gather": {
     "logged": 1717863959226
    },
    "jupyter": {
     "outputs_hidden": false,
     "source_hidden": false
    },
    "nteract": {
     "transient": {
      "deleting": false
     }
    }
   },
   "outputs": [],
   "source": [
    "from azureml.core import Workspace, Experiment, Dataset, Model\n",
    "from azureml.train.automl import AutoMLConfig\n",
    "from azureml.widgets import RunDetails\n",
    "from azureml.core.model import InferenceConfig\n",
    "from azureml.core.webservice import AciWebservice, Webservice\n",
    "from azureml.data.dataset_factory import TabularDatasetFactory\n",
    "from sklearn.datasets import load_iris\n",
    "from sklearn.model_selection import train_test_split\n",
    "import pandas as pd\n",
    "import json\n",
    "import requests"
   ]
  },
  {
   "cell_type": "markdown",
   "metadata": {},
   "source": [
    "## Dataset\n",
    "\n",
    "### Overview\n",
    "TODO: In this markdown cell, give an overview of the dataset you are using. Also mention the task you will be performing.\n",
    "\n",
    "The dataset used is the Iris dataset, containing 150 samples of iris flowers. Each sample is described by four features: sepal length, sepal width, petal length, and petal width. The target variable represents the species of the iris flower (Iris-setosa, Iris-versicolor, and Iris-virginica). Source: https://scikit-learn.org/stable/modules/generated/sklearn.datasets.load_iris.html#sklearn.datasets.load_iris\n",
    "\n",
    "The task is to use Azure AutoML to classify iris flower species based on their features. This involves:\n",
    "- Loading and preparing the dataset\n",
    "- Registering the dataset in AzureML workspace.\n",
    "- Creating and running an AutoML experiment using the dataset\n",
    "- Save the best model\n",
    "\n",
    "TODO: Get data. In the cell below, write code to access the data you will be using in this project. Remember that the dataset needs to be external."
   ]
  },
  {
   "cell_type": "code",
   "execution_count": 4,
   "metadata": {
    "gather": {
     "logged": 1717286276426
    },
    "jupyter": {
     "outputs_hidden": false,
     "source_hidden": false
    },
    "nteract": {
     "transient": {
      "deleting": false
     }
    }
   },
   "outputs": [],
   "source": [
    "ws = Workspace.from_config()\n",
    "\n",
    "# choose a name for experiment\n",
    "experiment_name = 'exp_iris_automl'\n",
    "\n",
    "experiment=Experiment(ws, experiment_name)"
   ]
  },
  {
   "cell_type": "code",
   "execution_count": 5,
   "metadata": {
    "gather": {
     "logged": 1717284633442
    },
    "jupyter": {
     "outputs_hidden": false,
     "source_hidden": false
    },
    "nteract": {
     "transient": {
      "deleting": false
     }
    }
   },
   "outputs": [
    {
     "name": "stdout",
     "output_type": "stream",
     "text": [
      "Validating arguments.\n",
      "Arguments validated.\n",
      "Successfully obtained datastore reference and path.\n",
      "Uploading file to iris_dataset/1c1b4f59-56c8-4d0a-8ada-98f88cfc5cb8/\n",
      "Successfully uploaded file to datastore.\n",
      "Creating and registering a new dataset.\n",
      "Successfully created and registered a new dataset.\n"
     ]
    }
   ],
   "source": [
    "iris = load_iris()\n",
    "\n",
    "# Combine features and target into a single DataFrame\n",
    "iris_df = pd.DataFrame(data=iris.data, columns=iris.feature_names)\n",
    "iris_df['target'] = iris.target\n",
    "\n",
    "# Register the dataset\n",
    "datastore = ws.get_default_datastore()\n",
    "iris_dataset = Dataset.Tabular.register_pandas_dataframe(\n",
    "    name='iris_dataset',\n",
    "    dataframe=iris_df,\n",
    "    target=(datastore, 'iris_dataset')\n",
    ")"
   ]
  },
  {
   "cell_type": "markdown",
   "metadata": {},
   "source": [
    "## AutoML Configuration\n",
    "\n",
    "TODO: Explain why you chose the automl settings and cofiguration you used below."
   ]
  },
  {
   "cell_type": "code",
   "execution_count": 6,
   "metadata": {
    "gather": {
     "logged": 1717284942444
    },
    "jupyter": {
     "outputs_hidden": false,
     "source_hidden": false
    },
    "nteract": {
     "transient": {
      "deleting": false
     }
    }
   },
   "outputs": [],
   "source": [
    "# TODO: Put your automl settings here\n",
    "automl_settings = {\n",
    "    \"iteration_timeout_minutes\": 5,  # Each model iteration will run for a maximum of 5 minutes.\n",
    "    \"experiment_timeout_hours\": 0.25,  # The entire experiment will run for a maximum of 15 minutes.\n",
    "    \"n_cross_validations\": 5,  # Use 5-fold cross-validation to ensure model robustness.\n",
    "    \"primary_metric\": 'accuracy',  # Optimize the model for accuracy.\n",
    "    \"enable_onnx_compatible_models\": True  # Ensure models are ONNX-compatible for deployment.\n",
    "}\n",
    "\n",
    "# TODO: Put your automl config here\n",
    "automl_config = AutoMLConfig(\n",
    "    task='classification',  # The task is classification based on the Iris dataset.\n",
    "    training_data=iris_dataset,  # The dataset to be used for training.\n",
    "    label_column_name='target',  # The column name of the target variable.\n",
    "    compute_target='notebook260384',  # The compute target where the experiment will run.\n",
    "    path='.',  # The directory to save outputs.\n",
    "    **automl_settings  # Include the automl_settings.\n",
    ")"
   ]
  },
  {
   "cell_type": "code",
   "execution_count": 7,
   "metadata": {
    "gather": {
     "logged": 1717286251620
    },
    "jupyter": {
     "outputs_hidden": false,
     "source_hidden": false
    },
    "nteract": {
     "transient": {
      "deleting": false
     }
    }
   },
   "outputs": [
    {
     "name": "stdout",
     "output_type": "stream",
     "text": [
      "Submitting remote run.\n"
     ]
    },
    {
     "data": {
      "text/html": [
       "<table style=\"width:100%\"><tr><th>Experiment</th><th>Id</th><th>Type</th><th>Status</th><th>Details Page</th><th>Docs Page</th></tr><tr><td>exp_iris_automl</td><td>AutoML_92037499-0e8d-40a4-83e5-73ecfc90c7f0</td><td>automl</td><td>NotStarted</td><td><a href=\"https://ml.azure.com/runs/AutoML_92037499-0e8d-40a4-83e5-73ecfc90c7f0?wsid=/subscriptions/61c5c3f0-6dc7-4ed9-a7f3-c704b20e3b30/resourcegroups/aml-quickstarts-260384/workspaces/quick-starts-ws-260384&amp;tid=660b3398-b80e-49d2-bc5b-ac1dc93b5254\" target=\"_blank\" rel=\"noopener\">Link to Azure Machine Learning studio</a></td><td><a href=\"https://docs.microsoft.com/en-us/python/api/overview/azure/ml/intro?view=azure-ml-py\" target=\"_blank\" rel=\"noopener\">Link to Documentation</a></td></tr></table>"
      ]
     },
     "metadata": {},
     "output_type": "display_data"
    }
   ],
   "source": [
    "# TODO: Submit your experiment\n",
    "remote_run = experiment.submit(automl_config)"
   ]
  },
  {
   "cell_type": "markdown",
   "metadata": {},
   "source": [
    "## Run Details\n",
    "\n",
    "OPTIONAL: Write about the different models trained and their performance. Why do you think some models did better than others?\n",
    "\n",
    "TODO: In the cell below, use the `RunDetails` widget to show the different experiments."
   ]
  },
  {
   "cell_type": "code",
   "execution_count": 8,
   "metadata": {
    "gather": {
     "logged": 1717284139450
    },
    "jupyter": {
     "outputs_hidden": false,
     "source_hidden": false
    },
    "nteract": {
     "transient": {
      "deleting": false
     }
    }
   },
   "outputs": [
    {
     "data": {
      "application/vnd.jupyter.widget-view+json": {
       "model_id": "426b42085d6f4a349e7604aef9ef0f31",
       "version_major": 2,
       "version_minor": 0
      },
      "text/plain": [
       "_AutoMLWidget(widget_settings={'childWidgetDisplay': 'popup', 'send_telemetry': False, 'log_level': 'INFO', 's…"
      ]
     },
     "metadata": {},
     "output_type": "display_data"
    },
    {
     "data": {
      "application/aml.mini.widget.v1": "{\"status\": \"Completed\", \"workbench_run_details_uri\": \"https://ml.azure.com/runs/AutoML_92037499-0e8d-40a4-83e5-73ecfc90c7f0?wsid=/subscriptions/61c5c3f0-6dc7-4ed9-a7f3-c704b20e3b30/resourcegroups/aml-quickstarts-260384/workspaces/quick-starts-ws-260384&tid=660b3398-b80e-49d2-bc5b-ac1dc93b5254\", \"run_id\": \"AutoML_92037499-0e8d-40a4-83e5-73ecfc90c7f0\", \"run_properties\": {\"run_id\": \"AutoML_92037499-0e8d-40a4-83e5-73ecfc90c7f0\", \"created_utc\": \"2024-06-08T16:29:00.422989Z\", \"properties\": {\"num_iterations\": \"1000\", \"training_type\": \"TrainFull\", \"acquisition_function\": \"EI\", \"primary_metric\": \"accuracy\", \"train_split\": \"0\", \"acquisition_parameter\": \"0\", \"num_cross_validation\": \"5\", \"target\": \"notebook260384\", \"AMLSettingsJsonString\": \"{\\\"path\\\":null,\\\"name\\\":\\\"exp_iris_automl\\\",\\\"subscription_id\\\":\\\"61c5c3f0-6dc7-4ed9-a7f3-c704b20e3b30\\\",\\\"resource_group\\\":\\\"aml-quickstarts-260384\\\",\\\"workspace_name\\\":\\\"quick-starts-ws-260384\\\",\\\"region\\\":\\\"westeurope\\\",\\\"compute_target\\\":\\\"notebook260384\\\",\\\"spark_service\\\":null,\\\"azure_service\\\":\\\"remote\\\",\\\"many_models\\\":false,\\\"pipeline_fetch_max_batch_size\\\":1,\\\"enable_batch_run\\\":true,\\\"enable_parallel_run\\\":false,\\\"num_procs\\\":null,\\\"enable_run_restructure\\\":false,\\\"start_auxiliary_runs_before_parent_complete\\\":false,\\\"enable_code_generation\\\":true,\\\"iterations\\\":1000,\\\"primary_metric\\\":\\\"accuracy\\\",\\\"task_type\\\":\\\"classification\\\",\\\"positive_label\\\":null,\\\"data_script\\\":null,\\\"test_size\\\":0.0,\\\"test_include_predictions_only\\\":false,\\\"validation_size\\\":0.0,\\\"n_cross_validations\\\":5,\\\"y_min\\\":null,\\\"y_max\\\":null,\\\"num_classes\\\":null,\\\"featurization\\\":\\\"auto\\\",\\\"_ignore_package_version_incompatibilities\\\":false,\\\"is_timeseries\\\":false,\\\"max_cores_per_iteration\\\":1,\\\"max_concurrent_iterations\\\":1,\\\"iteration_timeout_minutes\\\":5,\\\"mem_in_mb\\\":null,\\\"enforce_time_on_windows\\\":false,\\\"experiment_timeout_minutes\\\":15,\\\"experiment_exit_score\\\":null,\\\"partition_column_names\\\":null,\\\"whitelist_models\\\":null,\\\"blacklist_algos\\\":[\\\"TensorFlowLinearClassifier\\\",\\\"TensorFlowDNN\\\"],\\\"supported_models\\\":[\\\"RandomForest\\\",\\\"LightGBM\\\",\\\"AveragedPerceptronClassifier\\\",\\\"SGD\\\",\\\"GradientBoosting\\\",\\\"LogisticRegression\\\",\\\"LinearSVM\\\",\\\"BernoulliNaiveBayes\\\",\\\"XGBoostClassifier\\\",\\\"TensorFlowDNN\\\",\\\"TensorFlowLinearClassifier\\\",\\\"MultinomialNaiveBayes\\\",\\\"SVM\\\",\\\"ExtremeRandomTrees\\\",\\\"DecisionTree\\\",\\\"KNN\\\",\\\"TabnetClassifier\\\"],\\\"private_models\\\":[],\\\"auto_blacklist\\\":true,\\\"blacklist_samples_reached\\\":false,\\\"exclude_nan_labels\\\":true,\\\"verbosity\\\":20,\\\"_debug_log\\\":\\\"azureml_automl.log\\\",\\\"show_warnings\\\":false,\\\"model_explainability\\\":true,\\\"service_url\\\":null,\\\"sdk_url\\\":null,\\\"sdk_packages\\\":null,\\\"enable_onnx_compatible_models\\\":true,\\\"enable_split_onnx_featurizer_estimator_models\\\":false,\\\"vm_type\\\":\\\"Standard_DS3_v2\\\",\\\"telemetry_verbosity\\\":20,\\\"send_telemetry\\\":true,\\\"enable_dnn\\\":false,\\\"scenario\\\":\\\"AutoML\\\",\\\"environment_label\\\":null,\\\"save_mlflow\\\":false,\\\"enable_categorical_indicators\\\":false,\\\"force_text_dnn\\\":false,\\\"enable_feature_sweeping\\\":false,\\\"enable_early_stopping\\\":true,\\\"early_stopping_n_iters\\\":10,\\\"arguments\\\":null,\\\"dataset_id\\\":\\\"76ce9ffc-834f-4419-9b01-d9487cf1349a\\\",\\\"hyperdrive_config\\\":null,\\\"validation_dataset_id\\\":null,\\\"run_source\\\":null,\\\"metrics\\\":null,\\\"enable_metric_confidence\\\":false,\\\"enable_ensembling\\\":true,\\\"enable_stack_ensembling\\\":false,\\\"ensemble_iterations\\\":15,\\\"enable_tf\\\":false,\\\"enable_subsampling\\\":null,\\\"subsample_seed\\\":null,\\\"enable_nimbusml\\\":false,\\\"enable_streaming\\\":false,\\\"force_streaming\\\":false,\\\"track_child_runs\\\":true,\\\"n_best_runs\\\":1,\\\"allowed_private_models\\\":[],\\\"label_column_name\\\":\\\"target\\\",\\\"weight_column_name\\\":null,\\\"cv_split_column_names\\\":null,\\\"enable_local_managed\\\":false,\\\"_local_managed_run_id\\\":null,\\\"cost_mode\\\":1,\\\"lag_length\\\":0,\\\"metric_operation\\\":\\\"maximize\\\",\\\"preprocess\\\":true}\", \"DataPrepJsonString\": \"{\\\\\\\"training_data\\\\\\\": {\\\\\\\"datasetId\\\\\\\": \\\\\\\"76ce9ffc-834f-4419-9b01-d9487cf1349a\\\\\\\"}, \\\\\\\"datasets\\\\\\\": 0}\", \"EnableSubsampling\": null, \"runTemplate\": \"AutoML\", \"azureml.runsource\": \"automl\", \"display_task_type\": \"classification\", \"dependencies_versions\": \"{\\\"azureml-dataprep-native\\\": \\\"38.0.0\\\", \\\"azureml-dataprep\\\": \\\"4.10.8\\\", \\\"azureml-dataprep-rslex\\\": \\\"2.17.12\\\", \\\"azureml-train-automl-runtime\\\": \\\"1.51.0.post2\\\", \\\"azureml-train-automl-client\\\": \\\"1.51.0.post1\\\", \\\"azureml-training-tabular\\\": \\\"1.51.0.post1\\\", \\\"azureml-automl-runtime\\\": \\\"1.51.0.post1\\\", \\\"azureml-automl-core\\\": \\\"1.51.0.post1\\\", \\\"azureml-mlflow\\\": \\\"1.51.0\\\", \\\"azureml-datadrift\\\": \\\"1.51.0\\\", \\\"azureml-pipeline\\\": \\\"1.51.0\\\", \\\"azureml-contrib-dataset\\\": \\\"1.51.0\\\", \\\"azureml-contrib-notebook\\\": \\\"1.51.0\\\", \\\"azureml-accel-models\\\": \\\"1.51.0\\\", \\\"azureml-automl-dnn-nlp\\\": \\\"1.51.0\\\", \\\"azureml-pipeline-core\\\": \\\"1.51.0\\\", \\\"azureml-responsibleai\\\": \\\"1.51.0\\\", \\\"azureml-contrib-automl-pipeline-steps\\\": \\\"1.51.0\\\", \\\"azureml-pipeline-steps\\\": \\\"1.51.0\\\", \\\"azureml-core\\\": \\\"1.51.0\\\", \\\"azureml-contrib-reinforcementlearning\\\": \\\"1.51.0\\\", \\\"azureml-contrib-server\\\": \\\"1.51.0\\\", \\\"azureml-opendatasets\\\": \\\"1.51.0\\\", \\\"azureml-contrib-services\\\": \\\"1.51.0\\\", \\\"azureml-telemetry\\\": \\\"1.51.0\\\", \\\"azureml-train-restclients-hyperdrive\\\": \\\"1.51.0\\\", \\\"azureml-interpret\\\": \\\"1.51.0\\\", \\\"azureml-train-core\\\": \\\"1.51.0\\\", \\\"azureml-tensorboard\\\": \\\"1.51.0\\\", \\\"azureml-train\\\": \\\"1.51.0\\\", \\\"azureml-contrib-pipeline-steps\\\": \\\"1.51.0\\\", \\\"azureml-explain-model\\\": \\\"1.51.0\\\", \\\"azureml-cli-common\\\": \\\"1.51.0\\\", \\\"azureml-widgets\\\": \\\"1.51.0\\\", \\\"azureml-train-automl\\\": \\\"1.51.0\\\", \\\"azureml-defaults\\\": \\\"1.51.0\\\", \\\"azureml-contrib-fairness\\\": \\\"1.51.0\\\", \\\"azureml-sdk\\\": \\\"1.51.0\\\", \\\"azureml-dataset-runtime\\\": \\\"1.51.0\\\", \\\"azureml-inference-server-http\\\": \\\"0.8.4\\\"}\", \"_aml_system_scenario_identification\": \"Remote.Parent\", \"ClientType\": \"SDK\", \"PlatformVersion\": \"DPV1\", \"environment_cpu_name\": \"AzureML-AutoML\", \"environment_cpu_label\": \"scikit-upgrade2\", \"environment_gpu_name\": \"AzureML-AutoML-GPU\", \"environment_gpu_label\": \"scikit-upgrade2\", \"root_attribution\": \"automl\", \"attribution\": \"AutoML\", \"Orchestrator\": \"AutoML\", \"CancelUri\": \"https://westeurope.api.azureml.ms/jasmine/v1.0/subscriptions/61c5c3f0-6dc7-4ed9-a7f3-c704b20e3b30/resourceGroups/aml-quickstarts-260384/providers/Microsoft.MachineLearningServices/workspaces/quick-starts-ws-260384/experimentids/1f5bf0f6-ddc8-4cbc-abac-5fbe47442a85/cancel/AutoML_92037499-0e8d-40a4-83e5-73ecfc90c7f0\", \"ClientSdkVersion\": null, \"snapshotId\": \"00000000-0000-0000-0000-000000000000\", \"SetupRunId\": \"AutoML_92037499-0e8d-40a4-83e5-73ecfc90c7f0_setup\", \"SetupRunContainerId\": \"dcid.AutoML_92037499-0e8d-40a4-83e5-73ecfc90c7f0_setup\", \"FeaturizationRunJsonPath\": \"featurizer_container.json\", \"FeaturizationRunId\": \"AutoML_92037499-0e8d-40a4-83e5-73ecfc90c7f0_featurize\", \"ProblemInfoJsonString\": \"{\\\"dataset_num_categorical\\\": 0, \\\"is_sparse\\\": false, \\\"subsampling\\\": false, \\\"has_extra_col\\\": true, \\\"dataset_classes\\\": 3, \\\"dataset_features\\\": 4, \\\"dataset_samples\\\": 150, \\\"single_frequency_class_detected\\\": false}\", \"ModelExplainRunId\": \"AutoML_92037499-0e8d-40a4-83e5-73ecfc90c7f0_ModelExplain\"}, \"tags\": {\"model_explain_run\": \"best_run\", \"_aml_system_automl_run_workspace_id\": \"dc97a1cc-1099-48ee-8678-6c8f32723081\", \"_aml_system_azureml.automlComponent\": \"AutoML\", \"pipeline_id_000\": \"5dfac790c5c209f98a1da2dc1c7fb76f0397324f;c7af0367625be6ac5c2fecbfc72ed444cb7a2111;799d2168db11fc19b9e1c6c1df62f8981ad39fe9;44b5d2d23120dfcf96a7dc6389a293d17a966b1b;628c2351f7c75d74ad3673f2d39af16d6976da2e;3735210984ea10097d5c91905cf6300ac278cd89;2964988f7520e6167bfe42ba2c42ab4a75f8a68c;5304e705d6f401cb07f85bcf0ca59ac1f84dfcf5;5f21d4801ee2a6073890b89985177d37ef49c646;081b692de9e87424d86c2c1d0787b65e098fc386;294650ec23bc3d067a4972de7ceb12f6e97260fa;08e13545f5f7e2df5ef6a66d4110cfd996b1a0e3;22bffc6cdfb453aa19b0792ec8a8b592bd44dc5b;bc4e14e9481990f09b66c70640f3b1c528f584ac;ce96746d6f86360fe360023f5ae43340d1986145;7b422e7b3f86902c2409d5b5d9ff0c84d5dacfee;ca211529127bb19e1fc933b24b457a03beb5e48e;3caa818370e5e0c328d6266c359019bd31681270;589334a57221e0720a95cf217c065115a7b841d1;35b8e2db3c5f6e714072e1be9f0210fe48426975;da45f657e4591caadf1589a85a1f7b8932585595;3fd2e115482e0c7b92aa3297688aefb6c3aa6fb8;c9a269e69d4de801474c6337831bd6e10e4e33fb;c3b9810fc4d2315c3c3c549936145b998784434c;__AutoML_Ensemble__\", \"score_000\": \"0.9600000000000002;0.9466666666666669;0.9466666666666667;0.9400000000000001;0.9533333333333335;0.9333333333333333;0.9666666666666668;0.9200000000000002;0.9600000000000002;0.9600000000000002;0.9466666666666667;0.9400000000000001;0.9733333333333334;0.9600000000000002;0.9466666666666667;0.9466666666666667;0.96;0.9533333333333334;0.9533333333333335;0.9400000000000001;0.9733333333333334;0.9400000000000002;0.9533333333333334;0.9200000000000002;0.9733333333333334\", \"predicted_cost_000\": \"0;0;0.5;0.5;0.5;0.5;0.5;0.5;0.5;0.5;0.5;0.5;0.5;0.5;0.5;0.5;0.5;0.5;0.5;0.5;0.048319341118954605;0.006209076275854133;0.005910085023721967;0.04033665042360662;0\", \"fit_time_000\": \"0.045492199999999997;0.05182819999999999;0.222115;0.0116026;0.0039948;0.013047599999999998;0.029134399999999998;0.013394;0.0042976;0.0061026000000000006;0.012150999999999999;0.35436120000000004;0.0180254;0.011243;0.009828400000000001;0.0055222;0.004053800000000001;0.0173314;0.012934999999999999;0.011452599999999999;0.038394599999999994;0.0107484;0.0105288;0.015741400000000003;13\", \"training_percent_000\": \"100;100;100;100;100;100;100;100;100;100;100;100;100;100;100;100;100;100;100;100;100;100;100;100;100\", \"iteration_000\": \"0;1;2;3;4;5;6;7;8;9;10;11;12;13;14;15;16;17;18;19;20;21;22;23;24\", \"run_preprocessor_000\": \"MaxAbsScaler;MaxAbsScaler;MaxAbsScaler;SparseNormalizer;StandardScalerWrapper;MaxAbsScaler;RobustScaler;MaxAbsScaler;StandardScalerWrapper;StandardScalerWrapper;StandardScalerWrapper;MinMaxScaler;StandardScalerWrapper;StandardScalerWrapper;RobustScaler;MinMaxScaler;SparseNormalizer;MaxAbsScaler;StandardScalerWrapper;StandardScalerWrapper;MaxAbsScaler;StandardScalerWrapper;MaxAbsScaler;StandardScalerWrapper;\", \"run_algorithm_000\": \"LightGBM;XGBoostClassifier;ExtremeRandomTrees;XGBoostClassifier;KNN;LightGBM;LogisticRegression;LightGBM;KNN;SVM;XGBoostClassifier;RandomForest;LogisticRegression;KNN;KNN;KNN;KNN;LogisticRegression;XGBoostClassifier;XGBoostClassifier;LogisticRegression;XGBoostClassifier;SVM;LogisticRegression;VotingEnsemble\", \"_aml_system_azureml.automl_early_exit_message\": \"Experiment timeout reached, hence experiment stopped. Current experiment timeout: 0 hour(s) 15 minute(s)\", \"automl_best_child_run_id\": \"AutoML_92037499-0e8d-40a4-83e5-73ecfc90c7f0_12\", \"model_explain_best_run_child_id\": \"AutoML_92037499-0e8d-40a4-83e5-73ecfc90c7f0_12\"}, \"end_time_utc\": \"2024-06-08T16:48:50.35402Z\", \"status\": \"Completed\", \"log_files\": {}, \"log_groups\": [], \"run_duration\": \"0:19:49\", \"run_number\": \"1717864140\", \"run_queued_details\": {\"status\": \"Completed\", \"details\": null}}, \"child_runs\": [{\"run_id\": \"AutoML_92037499-0e8d-40a4-83e5-73ecfc90c7f0_setup\", \"run_number\": 1717864155, \"metric\": null, \"status\": \"Completed\", \"run_type\": \"azureml.scriptrun\", \"training_percent\": null, \"start_time\": \"2024-06-08T16:29:24.663875Z\", \"end_time\": \"2024-06-08T16:31:32.59299Z\", \"created_time\": \"2024-06-08T16:29:15.93342Z\", \"created_time_dt\": \"2024-06-08T16:29:15.93342Z\", \"duration\": \"0:02:16\", \"iteration\": null, \"goal\": null, \"run_name\": \"Completed\", \"run_properties\": null}, {\"run_id\": \"AutoML_92037499-0e8d-40a4-83e5-73ecfc90c7f0_featurize\", \"run_number\": 1717864292, \"metric\": null, \"status\": \"Completed\", \"run_type\": \"automl.featurization\", \"training_percent\": null, \"start_time\": \"2024-06-08T16:31:33.432655Z\", \"end_time\": \"2024-06-08T16:32:18.776978Z\", \"created_time\": \"2024-06-08T16:31:32.878965Z\", \"created_time_dt\": \"2024-06-08T16:31:32.878965Z\", \"duration\": \"0:00:45\", \"iteration\": null, \"goal\": null, \"run_name\": \"Completed\", \"run_properties\": null}, {\"run_id\": \"AutoML_92037499-0e8d-40a4-83e5-73ecfc90c7f0_0\", \"run_number\": 1717864340, \"metric\": null, \"status\": \"Completed\", \"run_type\": null, \"training_percent\": \"100\", \"start_time\": \"2024-06-08T16:32:51.334014Z\", \"end_time\": \"2024-06-08T16:33:23.785286Z\", \"created_time\": \"2024-06-08T16:32:20.547172Z\", \"created_time_dt\": \"2024-06-08T16:32:20.547172Z\", \"duration\": \"0:01:03\", \"iteration\": \"0\", \"goal\": \"accuracy_max\", \"run_name\": \"MaxAbsScaler, LightGBM\", \"run_properties\": \"copy=True\", \"primary_metric\": 0.96, \"best_metric\": 0.96}, {\"run_id\": \"AutoML_92037499-0e8d-40a4-83e5-73ecfc90c7f0_1\", \"run_number\": 1717864341, \"metric\": null, \"status\": \"Completed\", \"run_type\": null, \"training_percent\": \"100\", \"start_time\": \"2024-06-08T16:33:24.677074Z\", \"end_time\": \"2024-06-08T16:33:54.088879Z\", \"created_time\": \"2024-06-08T16:32:21.189846Z\", \"created_time_dt\": \"2024-06-08T16:32:21.189846Z\", \"duration\": \"0:01:32\", \"iteration\": \"1\", \"goal\": \"accuracy_max\", \"run_name\": \"MaxAbsScaler, XGBoostClassifier\", \"run_properties\": \"copy=True\", \"primary_metric\": 0.94666667, \"best_metric\": 0.96}, {\"run_id\": \"AutoML_92037499-0e8d-40a4-83e5-73ecfc90c7f0_3\", \"run_number\": 1717864342, \"metric\": null, \"status\": \"Completed\", \"run_type\": null, \"training_percent\": \"100\", \"start_time\": \"2024-06-08T16:34:27.028273Z\", \"end_time\": \"2024-06-08T16:34:56.345994Z\", \"created_time\": \"2024-06-08T16:32:22.437501Z\", \"created_time_dt\": \"2024-06-08T16:32:22.437501Z\", \"duration\": \"0:02:33\", \"iteration\": \"3\", \"goal\": \"accuracy_max\", \"run_name\": \"SparseNormalizer, XGBoostClassifier\", \"run_properties\": \"copy=True, norm='l2'\", \"primary_metric\": 0.94, \"best_metric\": 0.96}, {\"run_id\": \"AutoML_92037499-0e8d-40a4-83e5-73ecfc90c7f0_5\", \"run_number\": 1717864343, \"metric\": null, \"status\": \"Completed\", \"run_type\": null, \"training_percent\": \"100\", \"start_time\": \"2024-06-08T16:35:26.534768Z\", \"end_time\": \"2024-06-08T16:35:54.953407Z\", \"created_time\": \"2024-06-08T16:32:23.634855Z\", \"created_time_dt\": \"2024-06-08T16:32:23.634855Z\", \"duration\": \"0:03:31\", \"iteration\": \"5\", \"goal\": \"accuracy_max\", \"run_name\": \"MaxAbsScaler, LightGBM\", \"run_properties\": \"copy=True\", \"primary_metric\": 0.93333333, \"best_metric\": 0.96}, {\"run_id\": \"AutoML_92037499-0e8d-40a4-83e5-73ecfc90c7f0_6\", \"run_number\": 1717864344, \"metric\": null, \"status\": \"Completed\", \"run_type\": null, \"training_percent\": \"100\", \"start_time\": \"2024-06-08T16:35:55.84668Z\", \"end_time\": \"2024-06-08T16:36:24.190982Z\", \"created_time\": \"2024-06-08T16:32:24.212429Z\", \"created_time_dt\": \"2024-06-08T16:32:24.212429Z\", \"duration\": \"0:03:59\", \"iteration\": \"6\", \"goal\": \"accuracy_max\", \"run_name\": \"RobustScaler, LogisticRegression\", \"run_properties\": \"copy=True, quantile_range=[10, 90], with_centering=True,\\n             with_scaling=True\", \"primary_metric\": 0.96666667, \"best_metric\": 0.96666667}, {\"run_id\": \"AutoML_92037499-0e8d-40a4-83e5-73ecfc90c7f0_8\", \"run_number\": 1717864345, \"metric\": null, \"status\": \"Completed\", \"run_type\": null, \"training_percent\": \"100\", \"start_time\": \"2024-06-08T16:36:54.444926Z\", \"end_time\": \"2024-06-08T16:37:23.108335Z\", \"created_time\": \"2024-06-08T16:32:25.587421Z\", \"created_time_dt\": \"2024-06-08T16:32:25.587421Z\", \"duration\": \"0:04:57\", \"iteration\": \"8\", \"goal\": \"accuracy_max\", \"run_name\": \"StandardScalerWrapper, KNN\", \"run_properties\": \"copy=True, with_mean=False, with_std=False\", \"primary_metric\": 0.96, \"best_metric\": 0.96666667}, {\"run_id\": \"AutoML_92037499-0e8d-40a4-83e5-73ecfc90c7f0_9\", \"run_number\": 1717864346, \"metric\": null, \"status\": \"Completed\", \"run_type\": null, \"training_percent\": \"100\", \"start_time\": \"2024-06-08T16:37:23.903153Z\", \"end_time\": \"2024-06-08T16:37:51.840789Z\", \"created_time\": \"2024-06-08T16:32:26.141856Z\", \"created_time_dt\": \"2024-06-08T16:32:26.141856Z\", \"duration\": \"0:05:25\", \"iteration\": \"9\", \"goal\": \"accuracy_max\", \"run_name\": \"StandardScalerWrapper, SVM\", \"run_properties\": \"copy=True, with_mean=True, with_std=True\", \"primary_metric\": 0.96, \"best_metric\": 0.96666667}, {\"run_id\": \"AutoML_92037499-0e8d-40a4-83e5-73ecfc90c7f0_11\", \"run_number\": 1717864347, \"metric\": null, \"status\": \"Completed\", \"run_type\": null, \"training_percent\": \"100\", \"start_time\": \"2024-06-08T16:38:22.835885Z\", \"end_time\": \"2024-06-08T16:38:55.038505Z\", \"created_time\": \"2024-06-08T16:32:27.291617Z\", \"created_time_dt\": \"2024-06-08T16:32:27.291617Z\", \"duration\": \"0:06:27\", \"iteration\": \"11\", \"goal\": \"accuracy_max\", \"run_name\": \"MinMaxScaler, RandomForest\", \"run_properties\": \"copy=True, feature_range=(0, 1\", \"primary_metric\": 0.94, \"best_metric\": 0.96666667}, {\"run_id\": \"AutoML_92037499-0e8d-40a4-83e5-73ecfc90c7f0_13\", \"run_number\": 1717864348, \"metric\": null, \"status\": \"Completed\", \"run_type\": null, \"training_percent\": \"100\", \"start_time\": \"2024-06-08T16:39:25.745241Z\", \"end_time\": \"2024-06-08T16:39:53.986886Z\", \"created_time\": \"2024-06-08T16:32:28.524123Z\", \"created_time_dt\": \"2024-06-08T16:32:28.524123Z\", \"duration\": \"0:07:25\", \"iteration\": \"13\", \"goal\": \"accuracy_max\", \"run_name\": \"StandardScalerWrapper, KNN\", \"run_properties\": \"copy=True, with_mean=False, with_std=True\", \"primary_metric\": 0.96, \"best_metric\": 0.96666667}, {\"run_id\": \"AutoML_92037499-0e8d-40a4-83e5-73ecfc90c7f0_14\", \"run_number\": 1717864349, \"metric\": null, \"status\": \"Completed\", \"run_type\": null, \"training_percent\": \"100\", \"start_time\": \"2024-06-08T16:39:54.925259Z\", \"end_time\": \"2024-06-08T16:40:24.416681Z\", \"created_time\": \"2024-06-08T16:32:29.081588Z\", \"created_time_dt\": \"2024-06-08T16:32:29.081588Z\", \"duration\": \"0:07:55\", \"iteration\": \"14\", \"goal\": \"accuracy_max\", \"run_name\": \"RobustScaler, KNN\", \"run_properties\": \"copy=True, quantile_range=[10, 90], with_centering=False,\\n             with_scaling=True\", \"primary_metric\": 0.94666667, \"best_metric\": 0.96666667}, {\"run_id\": \"AutoML_92037499-0e8d-40a4-83e5-73ecfc90c7f0_16\", \"run_number\": 1717864350, \"metric\": null, \"status\": \"Completed\", \"run_type\": null, \"training_percent\": \"100\", \"start_time\": \"2024-06-08T16:40:55.103377Z\", \"end_time\": \"2024-06-08T16:41:23.643384Z\", \"created_time\": \"2024-06-08T16:32:30.322728Z\", \"created_time_dt\": \"2024-06-08T16:32:30.322728Z\", \"duration\": \"0:08:53\", \"iteration\": \"16\", \"goal\": \"accuracy_max\", \"run_name\": \"SparseNormalizer, KNN\", \"run_properties\": \"copy=True, norm='max'\", \"primary_metric\": 0.96, \"best_metric\": 0.96666667}, {\"run_id\": \"AutoML_92037499-0e8d-40a4-83e5-73ecfc90c7f0_18\", \"run_number\": 1717864351, \"metric\": null, \"status\": \"Completed\", \"run_type\": null, \"training_percent\": \"100\", \"start_time\": \"2024-06-08T16:41:53.858382Z\", \"end_time\": \"2024-06-08T16:42:22.981125Z\", \"created_time\": \"2024-06-08T16:32:31.616388Z\", \"created_time_dt\": \"2024-06-08T16:32:31.616388Z\", \"duration\": \"0:09:51\", \"iteration\": \"18\", \"goal\": \"accuracy_max\", \"run_name\": \"StandardScalerWrapper, XGBoostClassifier\", \"run_properties\": \"copy=True, with_mean=False, with_std=False\", \"primary_metric\": 0.95333333, \"best_metric\": 0.96666667}, {\"run_id\": \"AutoML_92037499-0e8d-40a4-83e5-73ecfc90c7f0_worker_0\", \"run_number\": 1717864352, \"metric\": null, \"status\": \"Completed\", \"run_type\": \"azureml.scriptrun\", \"training_percent\": null, \"start_time\": \"2024-06-08T16:32:39.820208Z\", \"end_time\": \"2024-06-08T16:43:02.03342Z\", \"created_time\": \"2024-06-08T16:32:32.555857Z\", \"created_time_dt\": \"2024-06-08T16:32:32.555857Z\", \"duration\": \"0:10:29\", \"iteration\": null, \"goal\": null, \"run_name\": \"Completed\", \"run_properties\": null}, {\"run_id\": \"AutoML_92037499-0e8d-40a4-83e5-73ecfc90c7f0_20\", \"run_number\": 1717865047, \"metric\": null, \"status\": \"Completed\", \"run_type\": \"azureml.scriptrun\", \"training_percent\": \"100\", \"start_time\": \"2024-06-08T16:44:16.087771Z\", \"end_time\": \"2024-06-08T16:45:03.146298Z\", \"created_time\": \"2024-06-08T16:44:07.144119Z\", \"created_time_dt\": \"2024-06-08T16:44:07.144119Z\", \"duration\": \"0:00:56\", \"iteration\": \"20\", \"goal\": \"accuracy_max\", \"run_name\": \"MaxAbsScaler, LogisticRegression\", \"run_properties\": \"copy=True\", \"primary_metric\": 0.97333333, \"best_metric\": 0.97333333}, {\"run_id\": \"AutoML_92037499-0e8d-40a4-83e5-73ecfc90c7f0_21\", \"run_number\": 1717865104, \"metric\": null, \"status\": \"Completed\", \"run_type\": \"azureml.scriptrun\", \"training_percent\": \"100\", \"start_time\": \"2024-06-08T16:45:12.246603Z\", \"end_time\": \"2024-06-08T16:45:59.079688Z\", \"created_time\": \"2024-06-08T16:45:04.907579Z\", \"created_time_dt\": \"2024-06-08T16:45:04.907579Z\", \"duration\": \"0:00:54\", \"iteration\": \"21\", \"goal\": \"accuracy_max\", \"run_name\": \"StandardScalerWrapper, XGBoostClassifier\", \"run_properties\": \"copy=True, with_mean=False, with_std=False\", \"primary_metric\": 0.94, \"best_metric\": 0.97333333}, {\"run_id\": \"AutoML_92037499-0e8d-40a4-83e5-73ecfc90c7f0_22\", \"run_number\": 1717865160, \"metric\": null, \"status\": \"Completed\", \"run_type\": \"azureml.scriptrun\", \"training_percent\": \"100\", \"start_time\": \"2024-06-08T16:46:08.261381Z\", \"end_time\": \"2024-06-08T16:46:54.336809Z\", \"created_time\": \"2024-06-08T16:46:00.630352Z\", \"created_time_dt\": \"2024-06-08T16:46:00.630352Z\", \"duration\": \"0:00:53\", \"iteration\": \"22\", \"goal\": \"accuracy_max\", \"run_name\": \"MaxAbsScaler, SVM\", \"run_properties\": \"copy=True\", \"primary_metric\": 0.95333333, \"best_metric\": 0.97333333}, {\"run_id\": \"AutoML_92037499-0e8d-40a4-83e5-73ecfc90c7f0_23\", \"run_number\": 1717865216, \"metric\": null, \"status\": \"Completed\", \"run_type\": \"azureml.scriptrun\", \"training_percent\": \"100\", \"start_time\": \"2024-06-08T16:47:02.757913Z\", \"end_time\": \"2024-06-08T16:47:49.198149Z\", \"created_time\": \"2024-06-08T16:46:56.014529Z\", \"created_time_dt\": \"2024-06-08T16:46:56.014529Z\", \"duration\": \"0:00:53\", \"iteration\": \"23\", \"goal\": \"accuracy_max\", \"run_name\": \"StandardScalerWrapper, LogisticRegression\", \"run_properties\": \"copy=True, with_mean=True, with_std=True\", \"primary_metric\": 0.92, \"best_metric\": 0.97333333}, {\"run_id\": \"AutoML_92037499-0e8d-40a4-83e5-73ecfc90c7f0_24\", \"run_number\": 1717865269, \"metric\": null, \"status\": \"Completed\", \"run_type\": \"azureml.scriptrun\", \"training_percent\": \"100\", \"start_time\": \"2024-06-08T16:47:57.265747Z\", \"end_time\": \"2024-06-08T16:48:49.115385Z\", \"created_time\": \"2024-06-08T16:47:49.863682Z\", \"created_time_dt\": \"2024-06-08T16:47:49.863682Z\", \"duration\": \"0:00:59\", \"iteration\": \"24\", \"goal\": \"accuracy_max\", \"run_name\": \"VotingEnsemble\", \"run_properties\": \"classification_labels=numpy.array([0, 1, 2]\", \"primary_metric\": 0.97333333, \"best_metric\": 0.97333333}], \"children_metrics\": {\"categories\": [0], \"series\": {\"recall_score_weighted\": [{\"categories\": [\"0\", \"1\", \"3\", \"5\", \"6\", \"8\", \"9\", \"11\", \"13\", \"14\", \"16\", \"18\", \"20\", \"21\", \"22\", \"23\", \"24\"], \"mode\": \"markers\", \"name\": \"recall_score_weighted\", \"stepped\": false, \"type\": \"scatter\", \"data\": [0.9600000000000002, 0.9466666666666669, 0.9400000000000001, 0.9333333333333333, 0.9666666666666668, 0.9600000000000002, 0.9600000000000002, 0.9400000000000001, 0.9600000000000002, 0.9466666666666667, 0.96, 0.9533333333333335, 0.9733333333333334, 0.9400000000000002, 0.9533333333333334, 0.9200000000000002, 0.9733333333333334]}, {\"categories\": [\"0\", \"1\", \"3\", \"5\", \"6\", \"8\", \"9\", \"11\", \"13\", \"14\", \"16\", \"18\", \"20\", \"21\", \"22\", \"23\", \"24\"], \"mode\": \"lines\", \"name\": \"recall_score_weighted_max\", \"stepped\": true, \"type\": \"scatter\", \"data\": [0.9600000000000002, 0.9600000000000002, 0.9600000000000002, 0.9600000000000002, 0.9666666666666668, 0.9666666666666668, 0.9666666666666668, 0.9666666666666668, 0.9666666666666668, 0.9666666666666668, 0.9666666666666668, 0.9666666666666668, 0.9733333333333334, 0.9733333333333334, 0.9733333333333334, 0.9733333333333334, 0.9733333333333334]}], \"f1_score_micro\": [{\"categories\": [\"0\", \"1\", \"3\", \"5\", \"6\", \"8\", \"9\", \"11\", \"13\", \"14\", \"16\", \"18\", \"20\", \"21\", \"22\", \"23\", \"24\"], \"mode\": \"markers\", \"name\": \"f1_score_micro\", \"stepped\": false, \"type\": \"scatter\", \"data\": [0.9600000000000002, 0.9466666666666669, 0.9400000000000001, 0.9333333333333333, 0.9666666666666668, 0.9600000000000002, 0.9600000000000002, 0.9400000000000001, 0.9600000000000002, 0.9466666666666667, 0.96, 0.9533333333333335, 0.9733333333333334, 0.9400000000000002, 0.9533333333333334, 0.9200000000000002, 0.9733333333333334]}, {\"categories\": [\"0\", \"1\", \"3\", \"5\", \"6\", \"8\", \"9\", \"11\", \"13\", \"14\", \"16\", \"18\", \"20\", \"21\", \"22\", \"23\", \"24\"], \"mode\": \"lines\", \"name\": \"f1_score_micro_max\", \"stepped\": true, \"type\": \"scatter\", \"data\": [0.9600000000000002, 0.9600000000000002, 0.9600000000000002, 0.9600000000000002, 0.9666666666666668, 0.9666666666666668, 0.9666666666666668, 0.9666666666666668, 0.9666666666666668, 0.9666666666666668, 0.9666666666666668, 0.9666666666666668, 0.9733333333333334, 0.9733333333333334, 0.9733333333333334, 0.9733333333333334, 0.9733333333333334]}], \"f1_score_macro\": [{\"categories\": [\"0\", \"1\", \"3\", \"5\", \"6\", \"8\", \"9\", \"11\", \"13\", \"14\", \"16\", \"18\", \"20\", \"21\", \"22\", \"23\", \"24\"], \"mode\": \"markers\", \"name\": \"f1_score_macro\", \"stepped\": false, \"type\": \"scatter\", \"data\": [0.9580704480704482, 0.9443402249467159, 0.936169942200902, 0.9287542087542088, 0.9658747550889158, 0.9589611748420023, 0.9580704480704482, 0.937656849842288, 0.9581929120909631, 0.9445325105887765, 0.9585387429907554, 0.9513911691715731, 0.9721779225097302, 0.9381790049031429, 0.9511758720582251, 0.9127306027306027, 0.9721779225097302]}, {\"categories\": [\"0\", \"1\", \"3\", \"5\", \"6\", \"8\", \"9\", \"11\", \"13\", \"14\", \"16\", \"18\", \"20\", \"21\", \"22\", \"23\", \"24\"], \"mode\": \"lines\", \"name\": \"f1_score_macro_max\", \"stepped\": true, \"type\": \"scatter\", \"data\": [0.9580704480704482, 0.9580704480704482, 0.9580704480704482, 0.9580704480704482, 0.9658747550889158, 0.9658747550889158, 0.9658747550889158, 0.9658747550889158, 0.9658747550889158, 0.9658747550889158, 0.9658747550889158, 0.9658747550889158, 0.9721779225097302, 0.9721779225097302, 0.9721779225097302, 0.9721779225097302, 0.9721779225097302]}], \"precision_score_micro\": [{\"categories\": [\"0\", \"1\", \"3\", \"5\", \"6\", \"8\", \"9\", \"11\", \"13\", \"14\", \"16\", \"18\", \"20\", \"21\", \"22\", \"23\", \"24\"], \"mode\": \"markers\", \"name\": \"precision_score_micro\", \"stepped\": false, \"type\": \"scatter\", \"data\": [0.9600000000000002, 0.9466666666666669, 0.9400000000000001, 0.9333333333333333, 0.9666666666666668, 0.9600000000000002, 0.9600000000000002, 0.9400000000000001, 0.9600000000000002, 0.9466666666666667, 0.96, 0.9533333333333335, 0.9733333333333334, 0.9400000000000002, 0.9533333333333334, 0.9200000000000002, 0.9733333333333334]}, {\"categories\": [\"0\", \"1\", \"3\", \"5\", \"6\", \"8\", \"9\", \"11\", \"13\", \"14\", \"16\", \"18\", \"20\", \"21\", \"22\", \"23\", \"24\"], \"mode\": \"lines\", \"name\": \"precision_score_micro_max\", \"stepped\": true, \"type\": \"scatter\", \"data\": [0.9600000000000002, 0.9600000000000002, 0.9600000000000002, 0.9600000000000002, 0.9666666666666668, 0.9666666666666668, 0.9666666666666668, 0.9666666666666668, 0.9666666666666668, 0.9666666666666668, 0.9666666666666668, 0.9666666666666668, 0.9733333333333334, 0.9733333333333334, 0.9733333333333334, 0.9733333333333334, 0.9733333333333334]}], \"recall_score_macro\": [{\"categories\": [\"0\", \"1\", \"3\", \"5\", \"6\", \"8\", \"9\", \"11\", \"13\", \"14\", \"16\", \"18\", \"20\", \"21\", \"22\", \"23\", \"24\"], \"mode\": \"markers\", \"name\": \"recall_score_macro\", \"stepped\": false, \"type\": \"scatter\", \"data\": [0.96, 0.9449206349206349, 0.9325925925925926, 0.9340740740740742, 0.9674074074074074, 0.9626455026455026, 0.96, 0.9382539682539683, 0.9578835978835979, 0.9457142857142857, 0.9652910052910053, 0.9504761904761905, 0.9729629629629629, 0.9393650793650794, 0.9544444444444444, 0.911216931216931, 0.9729629629629629]}, {\"categories\": [\"0\", \"1\", \"3\", \"5\", \"6\", \"8\", \"9\", \"11\", \"13\", \"14\", \"16\", \"18\", \"20\", \"21\", \"22\", \"23\", \"24\"], \"mode\": \"lines\", \"name\": \"recall_score_macro_max\", \"stepped\": true, \"type\": \"scatter\", \"data\": [0.96, 0.96, 0.96, 0.96, 0.9674074074074074, 0.9674074074074074, 0.9674074074074074, 0.9674074074074074, 0.9674074074074074, 0.9674074074074074, 0.9674074074074074, 0.9674074074074074, 0.9729629629629629, 0.9729629629629629, 0.9729629629629629, 0.9729629629629629, 0.9729629629629629]}], \"weighted_accuracy\": [{\"categories\": [\"0\", \"1\", \"3\", \"5\", \"6\", \"8\", \"9\", \"11\", \"13\", \"14\", \"16\", \"18\", \"20\", \"21\", \"22\", \"23\", \"24\"], \"mode\": \"markers\", \"name\": \"weighted_accuracy\", \"stepped\": false, \"type\": \"scatter\", \"data\": [0.9603658884568718, 0.9482282726743623, 0.9456944974674807, 0.9329149080647149, 0.9661263282045429, 0.9575373711493281, 0.9603658884568718, 0.9415616060076957, 0.9617539377174499, 0.9472826277210586, 0.955030592188281, 0.9558715847762734, 0.9739694654594448, 0.9403851354194603, 0.9527225763549609, 0.9264558511505576, 0.9739694654594448]}, {\"categories\": [\"0\", \"1\", \"3\", \"5\", \"6\", \"8\", \"9\", \"11\", \"13\", \"14\", \"16\", \"18\", \"20\", \"21\", \"22\", \"23\", \"24\"], \"mode\": \"lines\", \"name\": \"weighted_accuracy_max\", \"stepped\": true, \"type\": \"scatter\", \"data\": [0.9603658884568718, 0.9603658884568718, 0.9603658884568718, 0.9603658884568718, 0.9661263282045429, 0.9661263282045429, 0.9661263282045429, 0.9661263282045429, 0.9661263282045429, 0.9661263282045429, 0.9661263282045429, 0.9661263282045429, 0.9739694654594448, 0.9739694654594448, 0.9739694654594448, 0.9739694654594448, 0.9739694654594448]}], \"AUC_macro\": [{\"categories\": [\"0\", \"1\", \"3\", \"5\", \"6\", \"8\", \"9\", \"11\", \"13\", \"14\", \"16\", \"18\", \"20\", \"21\", \"22\", \"23\", \"24\"], \"mode\": \"markers\", \"name\": \"AUC_macro\", \"stepped\": false, \"type\": \"scatter\", \"data\": [0.9858659611992945, 0.9813879495437468, 0.9899182578023158, 0.9885970017636684, 0.996668430335097, 0.9959567326125297, 0.996668430335097, 0.9952706655931294, 0.997279483935281, 0.9959320412545051, 0.9920435932827237, 0.9851516179740818, 0.9973298059964726, 0.9896552028218695, 0.9946596119929453, 0.9811142742121003, 0.9973298059964726]}, {\"categories\": [\"0\", \"1\", \"3\", \"5\", \"6\", \"8\", \"9\", \"11\", \"13\", \"14\", \"16\", \"18\", \"20\", \"21\", \"22\", \"23\", \"24\"], \"mode\": \"lines\", \"name\": \"AUC_macro_max\", \"stepped\": true, \"type\": \"scatter\", \"data\": [0.9858659611992945, 0.9858659611992945, 0.9899182578023158, 0.9899182578023158, 0.996668430335097, 0.996668430335097, 0.996668430335097, 0.996668430335097, 0.997279483935281, 0.997279483935281, 0.997279483935281, 0.997279483935281, 0.9973298059964726, 0.9973298059964726, 0.9973298059964726, 0.9973298059964726, 0.9973298059964726]}], \"AUC_micro\": [{\"categories\": [\"0\", \"1\", \"3\", \"5\", \"6\", \"8\", \"9\", \"11\", \"13\", \"14\", \"16\", \"18\", \"20\", \"21\", \"22\", \"23\", \"24\"], \"mode\": \"markers\", \"name\": \"AUC_micro\", \"stepped\": false, \"type\": \"scatter\", \"data\": [0.9881111111111112, 0.9828888888888889, 0.9932222222222222, 0.9906666666666666, 0.9976666666666667, 0.9973333333333333, 0.9967777777777778, 0.9959999999999999, 0.9966666666666667, 0.9968888888888889, 0.993, 0.9896666666666667, 0.998, 0.9942222222222222, 0.9954444444444446, 0.9873333333333333, 0.998]}, {\"categories\": [\"0\", \"1\", \"3\", \"5\", \"6\", \"8\", \"9\", \"11\", \"13\", \"14\", \"16\", \"18\", \"20\", \"21\", \"22\", \"23\", \"24\"], \"mode\": \"lines\", \"name\": \"AUC_micro_max\", \"stepped\": true, \"type\": \"scatter\", \"data\": [0.9881111111111112, 0.9881111111111112, 0.9932222222222222, 0.9932222222222222, 0.9976666666666667, 0.9976666666666667, 0.9976666666666667, 0.9976666666666667, 0.9976666666666667, 0.9976666666666667, 0.9976666666666667, 0.9976666666666667, 0.998, 0.998, 0.998, 0.998, 0.998]}], \"norm_macro_recall\": [{\"categories\": [\"0\", \"1\", \"3\", \"5\", \"6\", \"8\", \"9\", \"11\", \"13\", \"14\", \"16\", \"18\", \"20\", \"21\", \"22\", \"23\", \"24\"], \"mode\": \"markers\", \"name\": \"norm_macro_recall\", \"stepped\": false, \"type\": \"scatter\", \"data\": [0.9399999999999998, 0.9173809523809522, 0.8988888888888887, 0.9011111111111111, 0.9511111111111109, 0.9439682539682538, 0.9399999999999998, 0.9073809523809523, 0.9368253968253967, 0.9185714285714284, 0.9479365079365077, 0.9257142857142856, 0.9594444444444443, 0.9090476190476189, 0.9316666666666666, 0.8668253968253967, 0.9594444444444443]}, {\"categories\": [\"0\", \"1\", \"3\", \"5\", \"6\", \"8\", \"9\", \"11\", \"13\", \"14\", \"16\", \"18\", \"20\", \"21\", \"22\", \"23\", \"24\"], \"mode\": \"lines\", \"name\": \"norm_macro_recall_max\", \"stepped\": true, \"type\": \"scatter\", \"data\": [0.9399999999999998, 0.9399999999999998, 0.9399999999999998, 0.9399999999999998, 0.9511111111111109, 0.9511111111111109, 0.9511111111111109, 0.9511111111111109, 0.9511111111111109, 0.9511111111111109, 0.9511111111111109, 0.9511111111111109, 0.9594444444444443, 0.9594444444444443, 0.9594444444444443, 0.9594444444444443, 0.9594444444444443]}], \"balanced_accuracy\": [{\"categories\": [\"0\", \"1\", \"3\", \"5\", \"6\", \"8\", \"9\", \"11\", \"13\", \"14\", \"16\", \"18\", \"20\", \"21\", \"22\", \"23\", \"24\"], \"mode\": \"markers\", \"name\": \"balanced_accuracy\", \"stepped\": false, \"type\": \"scatter\", \"data\": [0.96, 0.9449206349206349, 0.9325925925925926, 0.9340740740740742, 0.9674074074074074, 0.9626455026455026, 0.96, 0.9382539682539683, 0.9578835978835979, 0.9457142857142857, 0.9652910052910053, 0.9504761904761905, 0.9729629629629629, 0.9393650793650794, 0.9544444444444444, 0.911216931216931, 0.9729629629629629]}, {\"categories\": [\"0\", \"1\", \"3\", \"5\", \"6\", \"8\", \"9\", \"11\", \"13\", \"14\", \"16\", \"18\", \"20\", \"21\", \"22\", \"23\", \"24\"], \"mode\": \"lines\", \"name\": \"balanced_accuracy_max\", \"stepped\": true, \"type\": \"scatter\", \"data\": [0.96, 0.96, 0.96, 0.96, 0.9674074074074074, 0.9674074074074074, 0.9674074074074074, 0.9674074074074074, 0.9674074074074074, 0.9674074074074074, 0.9674074074074074, 0.9674074074074074, 0.9729629629629629, 0.9729629629629629, 0.9729629629629629, 0.9729629629629629, 0.9729629629629629]}], \"precision_score_weighted\": [{\"categories\": [\"0\", \"1\", \"3\", \"5\", \"6\", \"8\", \"9\", \"11\", \"13\", \"14\", \"16\", \"18\", \"20\", \"21\", \"22\", \"23\", \"24\"], \"mode\": \"markers\", \"name\": \"precision_score_weighted\", \"stepped\": false, \"type\": \"scatter\", \"data\": [0.9648677248677249, 0.9502663817663818, 0.9442963702963703, 0.9349110149110149, 0.9683589743589744, 0.9625256410256411, 0.9648677248677249, 0.9442057757057757, 0.9612777777777778, 0.9476923076923077, 0.9671054131054131, 0.9548034188034187, 0.9767380952380952, 0.9434074074074076, 0.9612380952380952, 0.9224126984126985, 0.9767380952380952]}, {\"categories\": [\"0\", \"1\", \"3\", \"5\", \"6\", \"8\", \"9\", \"11\", \"13\", \"14\", \"16\", \"18\", \"20\", \"21\", \"22\", \"23\", \"24\"], \"mode\": \"lines\", \"name\": \"precision_score_weighted_max\", \"stepped\": true, \"type\": \"scatter\", \"data\": [0.9648677248677249, 0.9648677248677249, 0.9648677248677249, 0.9648677248677249, 0.9683589743589744, 0.9683589743589744, 0.9683589743589744, 0.9683589743589744, 0.9683589743589744, 0.9683589743589744, 0.9683589743589744, 0.9683589743589744, 0.9767380952380952, 0.9767380952380952, 0.9767380952380952, 0.9767380952380952, 0.9767380952380952]}], \"f1_score_weighted\": [{\"categories\": [\"0\", \"1\", \"3\", \"5\", \"6\", \"8\", \"9\", \"11\", \"13\", \"14\", \"16\", \"18\", \"20\", \"21\", \"22\", \"23\", \"24\"], \"mode\": \"markers\", \"name\": \"f1_score_weighted\", \"stepped\": false, \"type\": \"scatter\", \"data\": [0.9599067599067599, 0.9465642363721471, 0.9396397161833694, 0.9317272727272728, 0.9665557260585393, 0.9599878248239714, 0.9599067599067599, 0.9398808612677195, 0.9599358269583158, 0.9465557260585393, 0.9604850404497464, 0.9530809249975315, 0.9730901151988108, 0.9400858049995982, 0.9533489549666019, 0.9186687386687387, 0.9730901151988108]}, {\"categories\": [\"0\", \"1\", \"3\", \"5\", \"6\", \"8\", \"9\", \"11\", \"13\", \"14\", \"16\", \"18\", \"20\", \"21\", \"22\", \"23\", \"24\"], \"mode\": \"lines\", \"name\": \"f1_score_weighted_max\", \"stepped\": true, \"type\": \"scatter\", \"data\": [0.9599067599067599, 0.9599067599067599, 0.9599067599067599, 0.9599067599067599, 0.9665557260585393, 0.9665557260585393, 0.9665557260585393, 0.9665557260585393, 0.9665557260585393, 0.9665557260585393, 0.9665557260585393, 0.9665557260585393, 0.9730901151988108, 0.9730901151988108, 0.9730901151988108, 0.9730901151988108, 0.9730901151988108]}], \"average_precision_score_micro\": [{\"categories\": [\"0\", \"1\", \"3\", \"5\", \"6\", \"8\", \"9\", \"11\", \"13\", \"14\", \"16\", \"18\", \"20\", \"21\", \"22\", \"23\", \"24\"], \"mode\": \"markers\", \"name\": \"average_precision_score_micro\", \"stepped\": false, \"type\": \"scatter\", \"data\": [0.9762600338801288, 0.9634022162371909, 0.9862883546067988, 0.9806585762882694, 0.9955953921643113, 0.9949710265873595, 0.9938864840802195, 0.9929365312694488, 0.9937028652368383, 0.9941344693842076, 0.9852103129282588, 0.9728915095952264, 0.9962110898173272, 0.988267344665133, 0.9914703174731446, 0.976511035618018, 0.9962055608702809]}, {\"categories\": [\"0\", \"1\", \"3\", \"5\", \"6\", \"8\", \"9\", \"11\", \"13\", \"14\", \"16\", \"18\", \"20\", \"21\", \"22\", \"23\", \"24\"], \"mode\": \"lines\", \"name\": \"average_precision_score_micro_max\", \"stepped\": true, \"type\": \"scatter\", \"data\": [0.9762600338801288, 0.9762600338801288, 0.9862883546067988, 0.9862883546067988, 0.9955953921643113, 0.9955953921643113, 0.9955953921643113, 0.9955953921643113, 0.9955953921643113, 0.9955953921643113, 0.9955953921643113, 0.9955953921643113, 0.9962110898173272, 0.9962110898173272, 0.9962110898173272, 0.9962110898173272, 0.9962110898173272]}], \"AUC_weighted\": [{\"categories\": [\"0\", \"1\", \"3\", \"5\", \"6\", \"8\", \"9\", \"11\", \"13\", \"14\", \"16\", \"18\", \"20\", \"21\", \"22\", \"23\", \"24\"], \"mode\": \"markers\", \"name\": \"AUC_weighted\", \"stepped\": false, \"type\": \"scatter\", \"data\": [0.9858571428571429, 0.9815739015412929, 0.9896648263170003, 0.9885132275132275, 0.9965978835978836, 0.9958913618587533, 0.9965978835978836, 0.9952405682079595, 0.9972670232344146, 0.9959283988957901, 0.9921016793190706, 0.9851612031285943, 0.9972857142857142, 0.9894656084656084, 0.9945714285714284, 0.9818613411548196, 0.9972857142857142]}, {\"categories\": [\"0\", \"1\", \"3\", \"5\", \"6\", \"8\", \"9\", \"11\", \"13\", \"14\", \"16\", \"18\", \"20\", \"21\", \"22\", \"23\", \"24\"], \"mode\": \"lines\", \"name\": \"AUC_weighted_max\", \"stepped\": true, \"type\": \"scatter\", \"data\": [0.9858571428571429, 0.9858571428571429, 0.9896648263170003, 0.9896648263170003, 0.9965978835978836, 0.9965978835978836, 0.9965978835978836, 0.9965978835978836, 0.9972670232344146, 0.9972670232344146, 0.9972670232344146, 0.9972670232344146, 0.9972857142857142, 0.9972857142857142, 0.9972857142857142, 0.9972857142857142, 0.9972857142857142]}], \"log_loss\": [{\"categories\": [\"0\", \"1\", \"3\", \"5\", \"6\", \"8\", \"9\", \"11\", \"13\", \"14\", \"16\", \"18\", \"20\", \"21\", \"22\", \"23\", \"24\"], \"mode\": \"markers\", \"name\": \"log_loss\", \"stepped\": false, \"type\": \"scatter\", \"data\": [0.2808236780914708, 0.2078618822454162, 0.9998686961327312, 0.23150050852213172, 0.08616038136548179, 0.08740923698021456, 0.1321875811904035, 0.17657625306460392, 0.17884586776161404, 0.09234838383972474, 0.29738251208065736, 0.16500875351610128, 0.07249010998848623, 0.27374091133501427, 0.146809741079588, 0.37374134477258353, 0.09640090063363924]}, {\"categories\": [\"0\", \"1\", \"3\", \"5\", \"6\", \"8\", \"9\", \"11\", \"13\", \"14\", \"16\", \"18\", \"20\", \"21\", \"22\", \"23\", \"24\"], \"mode\": \"lines\", \"name\": \"log_loss_min\", \"stepped\": true, \"type\": \"scatter\", \"data\": [0.2808236780914708, 0.2078618822454162, 0.2078618822454162, 0.2078618822454162, 0.08616038136548179, 0.08616038136548179, 0.08616038136548179, 0.08616038136548179, 0.08616038136548179, 0.08616038136548179, 0.08616038136548179, 0.08616038136548179, 0.07249010998848623, 0.07249010998848623, 0.07249010998848623, 0.07249010998848623, 0.07249010998848623]}], \"average_precision_score_weighted\": [{\"categories\": [\"0\", \"1\", \"3\", \"5\", \"6\", \"8\", \"9\", \"11\", \"13\", \"14\", \"16\", \"18\", \"20\", \"21\", \"22\", \"23\", \"24\"], \"mode\": \"markers\", \"name\": \"average_precision_score_weighted\", \"stepped\": false, \"type\": \"scatter\", \"data\": [0.981141118141118, 0.9671069948569949, 0.9816720512602867, 0.9780717511152293, 0.9942058682058683, 0.9929280904280905, 0.9943348873348874, 0.9916802271802272, 0.9950897065897065, 0.9927765752765753, 0.9850400155400155, 0.9738440078440078, 0.9952664742664743, 0.9802939733374515, 0.9908461168461169, 0.967183502771738, 0.9953861693861693]}, {\"categories\": [\"0\", \"1\", \"3\", \"5\", \"6\", \"8\", \"9\", \"11\", \"13\", \"14\", \"16\", \"18\", \"20\", \"21\", \"22\", \"23\", \"24\"], \"mode\": \"lines\", \"name\": \"average_precision_score_weighted_max\", \"stepped\": true, \"type\": \"scatter\", \"data\": [0.981141118141118, 0.981141118141118, 0.9816720512602867, 0.9816720512602867, 0.9942058682058683, 0.9942058682058683, 0.9943348873348874, 0.9943348873348874, 0.9950897065897065, 0.9950897065897065, 0.9950897065897065, 0.9950897065897065, 0.9952664742664743, 0.9952664742664743, 0.9952664742664743, 0.9952664742664743, 0.9953861693861693]}], \"recall_score_micro\": [{\"categories\": [\"0\", \"1\", \"3\", \"5\", \"6\", \"8\", \"9\", \"11\", \"13\", \"14\", \"16\", \"18\", \"20\", \"21\", \"22\", \"23\", \"24\"], \"mode\": \"markers\", \"name\": \"recall_score_micro\", \"stepped\": false, \"type\": \"scatter\", \"data\": [0.9600000000000002, 0.9466666666666669, 0.9400000000000001, 0.9333333333333333, 0.9666666666666668, 0.9600000000000002, 0.9600000000000002, 0.9400000000000001, 0.9600000000000002, 0.9466666666666667, 0.96, 0.9533333333333335, 0.9733333333333334, 0.9400000000000002, 0.9533333333333334, 0.9200000000000002, 0.9733333333333334]}, {\"categories\": [\"0\", \"1\", \"3\", \"5\", \"6\", \"8\", \"9\", \"11\", \"13\", \"14\", \"16\", \"18\", \"20\", \"21\", \"22\", \"23\", \"24\"], \"mode\": \"lines\", \"name\": \"recall_score_micro_max\", \"stepped\": true, \"type\": \"scatter\", \"data\": [0.9600000000000002, 0.9600000000000002, 0.9600000000000002, 0.9600000000000002, 0.9666666666666668, 0.9666666666666668, 0.9666666666666668, 0.9666666666666668, 0.9666666666666668, 0.9666666666666668, 0.9666666666666668, 0.9666666666666668, 0.9733333333333334, 0.9733333333333334, 0.9733333333333334, 0.9733333333333334, 0.9733333333333334]}], \"accuracy\": [{\"categories\": [\"0\", \"1\", \"3\", \"5\", \"6\", \"8\", \"9\", \"11\", \"13\", \"14\", \"16\", \"18\", \"20\", \"21\", \"22\", \"23\", \"24\"], \"mode\": \"markers\", \"name\": \"accuracy\", \"stepped\": false, \"type\": \"scatter\", \"data\": [0.9600000000000002, 0.9466666666666669, 0.9400000000000001, 0.9333333333333333, 0.9666666666666668, 0.9600000000000002, 0.9600000000000002, 0.9400000000000001, 0.9600000000000002, 0.9466666666666667, 0.96, 0.9533333333333335, 0.9733333333333334, 0.9400000000000002, 0.9533333333333334, 0.9200000000000002, 0.9733333333333334]}, {\"categories\": [\"0\", \"1\", \"3\", \"5\", \"6\", \"8\", \"9\", \"11\", \"13\", \"14\", \"16\", \"18\", \"20\", \"21\", \"22\", \"23\", \"24\"], \"mode\": \"lines\", \"name\": \"accuracy_max\", \"stepped\": true, \"type\": \"scatter\", \"data\": [0.9600000000000002, 0.9600000000000002, 0.9600000000000002, 0.9600000000000002, 0.9666666666666668, 0.9666666666666668, 0.9666666666666668, 0.9666666666666668, 0.9666666666666668, 0.9666666666666668, 0.9666666666666668, 0.9666666666666668, 0.9733333333333334, 0.9733333333333334, 0.9733333333333334, 0.9733333333333334, 0.9733333333333334]}], \"precision_score_macro\": [{\"categories\": [\"0\", \"1\", \"3\", \"5\", \"6\", \"8\", \"9\", \"11\", \"13\", \"14\", \"16\", \"18\", \"20\", \"21\", \"22\", \"23\", \"24\"], \"mode\": \"markers\", \"name\": \"precision_score_macro\", \"stepped\": false, \"type\": \"scatter\", \"data\": [0.9615873015873015, 0.9480769230769232, 0.9456077256077258, 0.9288311688311689, 0.9664102564102566, 0.9580769230769232, 0.9615873015873015, 0.9420163170163172, 0.9601851851851851, 0.9447171347171347, 0.9585754985754986, 0.9545584045584047, 0.9754761904761905, 0.9407407407407409, 0.9564021164021164, 0.91994708994709, 0.9754761904761905]}, {\"categories\": [\"0\", \"1\", \"3\", \"5\", \"6\", \"8\", \"9\", \"11\", \"13\", \"14\", \"16\", \"18\", \"20\", \"21\", \"22\", \"23\", \"24\"], \"mode\": \"lines\", \"name\": \"precision_score_macro_max\", \"stepped\": true, \"type\": \"scatter\", \"data\": [0.9615873015873015, 0.9615873015873015, 0.9615873015873015, 0.9615873015873015, 0.9664102564102566, 0.9664102564102566, 0.9664102564102566, 0.9664102564102566, 0.9664102564102566, 0.9664102564102566, 0.9664102564102566, 0.9664102564102566, 0.9754761904761905, 0.9754761904761905, 0.9754761904761905, 0.9754761904761905, 0.9754761904761905]}], \"matthews_correlation\": [{\"categories\": [\"0\", \"1\", \"3\", \"5\", \"6\", \"8\", \"9\", \"11\", \"13\", \"14\", \"16\", \"18\", \"20\", \"21\", \"22\", \"23\", \"24\"], \"mode\": \"markers\", \"name\": \"matthews_correlation\", \"stepped\": false, \"type\": \"scatter\", \"data\": [0.9418719253405892, 0.920629511409973, 0.9103266307755483, 0.9013657009959261, 0.950309277114334, 0.9403194443988736, 0.9418719253405892, 0.9109469719488137, 0.9396765594941477, 0.9190354607927975, 0.94241368044984, 0.9297129913333582, 0.9613232982405628, 0.9103910593687423, 0.9334255455733654, 0.879525639173521, 0.9613232982405628]}, {\"categories\": [\"0\", \"1\", \"3\", \"5\", \"6\", \"8\", \"9\", \"11\", \"13\", \"14\", \"16\", \"18\", \"20\", \"21\", \"22\", \"23\", \"24\"], \"mode\": \"lines\", \"name\": \"matthews_correlation_max\", \"stepped\": true, \"type\": \"scatter\", \"data\": [0.9418719253405892, 0.9418719253405892, 0.9418719253405892, 0.9418719253405892, 0.950309277114334, 0.950309277114334, 0.950309277114334, 0.950309277114334, 0.950309277114334, 0.950309277114334, 0.950309277114334, 0.950309277114334, 0.9613232982405628, 0.9613232982405628, 0.9613232982405628, 0.9613232982405628, 0.9613232982405628]}], \"average_precision_score_macro\": [{\"categories\": [\"0\", \"1\", \"3\", \"5\", \"6\", \"8\", \"9\", \"11\", \"13\", \"14\", \"16\", \"18\", \"20\", \"21\", \"22\", \"23\", \"24\"], \"mode\": \"markers\", \"name\": \"average_precision_score_macro\", \"stepped\": false, \"type\": \"scatter\", \"data\": [0.981861317694651, 0.9682359677359678, 0.981259976838875, 0.9789007789490881, 0.9942166372721928, 0.9927087007642564, 0.9944230769230769, 0.9913405318960875, 0.9947878253433808, 0.9924460745016301, 0.985454822954823, 0.9753827396882953, 0.9952267382822939, 0.9813699147515573, 0.990855461411017, 0.9638343891990019, 0.9954059829059829]}, {\"categories\": [\"0\", \"1\", \"3\", \"5\", \"6\", \"8\", \"9\", \"11\", \"13\", \"14\", \"16\", \"18\", \"20\", \"21\", \"22\", \"23\", \"24\"], \"mode\": \"lines\", \"name\": \"average_precision_score_macro_max\", \"stepped\": true, \"type\": \"scatter\", \"data\": [0.981861317694651, 0.981861317694651, 0.981861317694651, 0.981861317694651, 0.9942166372721928, 0.9942166372721928, 0.9944230769230769, 0.9944230769230769, 0.9947878253433808, 0.9947878253433808, 0.9947878253433808, 0.9947878253433808, 0.9952267382822939, 0.9952267382822939, 0.9952267382822939, 0.9952267382822939, 0.9954059829059829]}]}, \"metricName\": null, \"primaryMetricName\": \"accuracy\", \"showLegend\": false}, \"run_metrics\": [{\"name\": \"experiment_status\", \"run_id\": \"AutoML_92037499-0e8d-40a4-83e5-73ecfc90c7f0\", \"categories\": [0, 1, 2, 3, 4, 5, 6, 7, 8, 9, 10, 11, 12, 13], \"series\": [{\"data\": [\"DatasetEvaluation\", \"FeaturesGeneration\", \"DatasetFeaturization\", \"DatasetFeaturizationCompleted\", \"DatasetCrossValidationSplit\", \"ModelSelection\", \"BestRunExplainModel\", \"ModelExplanationDataSetSetup\", \"PickSurrogateModel\", \"EngineeredFeatureExplanations\", \"EngineeredFeatureExplanations\", \"RawFeaturesExplanations\", \"RawFeaturesExplanations\", \"BestRunExplainModel\"]}]}, {\"name\": \"experiment_status_description\", \"run_id\": \"AutoML_92037499-0e8d-40a4-83e5-73ecfc90c7f0\", \"categories\": [0, 1, 2, 3, 4, 5, 6, 7, 8, 9, 10, 11, 12, 13], \"series\": [{\"data\": [\"Gathering dataset statistics.\", \"Generating features for the dataset.\", \"Beginning to fit featurizers and featurize the dataset.\", \"Completed fit featurizers and featurizing the dataset.\", \"Generating individually featurized CV splits.\", \"Beginning model selection.\", \"Best run model explanations started\", \"Model explanations data setup completed\", \"Choosing LightGBM as the surrogate model for explanations\", \"Computation of engineered features started\", \"Computation of engineered features completed\", \"Computation of raw features started\", \"Computation of raw features completed\", \"Best run model explanations completed\"]}]}], \"run_logs\": \"\\nRun is completed.\", \"graph\": {}, \"widget_settings\": {\"childWidgetDisplay\": \"popup\", \"send_telemetry\": false, \"log_level\": \"INFO\", \"sdk_version\": \"1.51.0\"}, \"loading\": false}"
     },
     "metadata": {},
     "output_type": "display_data"
    },
    {
     "data": {
      "application/vnd.jupyter.widget-view+json": {
       "model_id": "648981ee52cc420b8fdb4b6e9dbdb1fb",
       "version_major": 2,
       "version_minor": 0
      },
      "text/plain": [
       "_UserRunWidget(widget_settings={'childWidgetDisplay': 'popup', 'send_telemetry': False, 'log_level': 'INFO', '…"
      ]
     },
     "metadata": {},
     "output_type": "display_data"
    },
    {
     "data": {
      "application/aml.mini.widget.v1": "{\"status\": \"Completed\", \"workbench_run_details_uri\": \"https://ml.azure.com/runs/AutoML_92037499-0e8d-40a4-83e5-73ecfc90c7f0_15?wsid=/subscriptions/61c5c3f0-6dc7-4ed9-a7f3-c704b20e3b30/resourcegroups/aml-quickstarts-260384/workspaces/quick-starts-ws-260384&tid=660b3398-b80e-49d2-bc5b-ac1dc93b5254\", \"run_id\": \"AutoML_92037499-0e8d-40a4-83e5-73ecfc90c7f0_15\", \"run_properties\": {\"run_id\": \"AutoML_92037499-0e8d-40a4-83e5-73ecfc90c7f0_15\", \"created_utc\": \"2024-06-08T16:32:29.720289Z\", \"properties\": {\"runTemplate\": \"automl_child\", \"pipeline_id\": \"7b422e7b3f86902c2409d5b5d9ff0c84d5dacfee\", \"pipeline_spec\": \"{\\\"objects\\\": [{\\\"class_name\\\": \\\"MinMaxScaler\\\", \\\"module\\\": \\\"sklearn.preprocessing\\\", \\\"param_args\\\": [], \\\"param_kwargs\\\": {}, \\\"prepared_kwargs\\\": {}, \\\"spec_class\\\": \\\"preproc\\\"}, {\\\"class_name\\\": \\\"KNeighborsClassifier\\\", \\\"module\\\": \\\"sklearn.neighbors\\\", \\\"param_args\\\": [], \\\"param_kwargs\\\": {\\\"metric\\\": \\\"manhattan\\\", \\\"n_neighbors\\\": 6, \\\"weights\\\": \\\"distance\\\"}, \\\"prepared_kwargs\\\": {}, \\\"spec_class\\\": \\\"sklearn\\\"}], \\\"pipeline_id\\\": \\\"7b422e7b3f86902c2409d5b5d9ff0c84d5dacfee\\\", \\\"module\\\": \\\"sklearn.pipeline\\\", \\\"class_name\\\": \\\"Pipeline\\\", \\\"pipeline_name\\\": \\\"{ MinMaxScaler, KNeighborsClassifier }\\\"}\", \"training_percent\": \"100\", \"predicted_cost\": \"0.5\", \"iteration\": \"15\", \"_aml_system_scenario_identification\": \"Remote.Child\", \"run_preprocessor\": \"MinMaxScaler\", \"run_algorithm\": \"KNN\", \"model_output_path\": \"outputs/model.pkl\", \"conda_env_data_location\": \"aml://artifact/ExperimentRun/dcid.AutoML_92037499-0e8d-40a4-83e5-73ecfc90c7f0_15/outputs/conda_env_v_1_0_0.yml\", \"model_data_location\": \"aml://artifact/ExperimentRun/dcid.AutoML_92037499-0e8d-40a4-83e5-73ecfc90c7f0_15/outputs/model.pkl\", \"model_size_on_disk\": \"16014\", \"scoring_data_location\": \"aml://artifact/ExperimentRun/dcid.AutoML_92037499-0e8d-40a4-83e5-73ecfc90c7f0_15/outputs/scoring_file_v_1_0_0.py\", \"scoring_data_location_v2\": \"aml://artifact/ExperimentRun/dcid.AutoML_92037499-0e8d-40a4-83e5-73ecfc90c7f0_15/outputs/scoring_file_v_2_0_0.py\", \"scoring_data_location_pbi\": \"aml://artifact/ExperimentRun/dcid.AutoML_92037499-0e8d-40a4-83e5-73ecfc90c7f0_15/outputs/scoring_file_pbi_v_1_0_0.py\", \"model_exp_support\": \"True\", \"pipeline_graph_version\": \"1.0.0\", \"model_name\": \"AutoML92037499015\", \"score\": \"0.9466666666666667\", \"score_table\": \"NaN\", \"run_properties\": \"copy=True, feature_range=(0, 1\", \"pipeline_script\": \"{\\\"objects\\\": [{\\\"class_name\\\": \\\"MinMaxScaler\\\", \\\"module\\\": \\\"sklearn.preprocessing\\\", \\\"param_args\\\": [], \\\"param_kwargs\\\": {}, \\\"prepared_kwargs\\\": {}, \\\"spec_class\\\": \\\"preproc\\\"}, {\\\"class_name\\\": \\\"KNeighborsClassifier\\\", \\\"module\\\": \\\"sklearn.neighbors\\\", \\\"param_args\\\": [], \\\"param_kwargs\\\": {\\\"metric\\\": \\\"manhattan\\\", \\\"n_neighbors\\\": 6, \\\"weights\\\": \\\"distance\\\"}, \\\"prepared_kwargs\\\": {}, \\\"spec_class\\\": \\\"sklearn\\\"}], \\\"pipeline_id\\\": \\\"7b422e7b3f86902c2409d5b5d9ff0c84d5dacfee\\\", \\\"module\\\": \\\"sklearn.pipeline\\\", \\\"class_name\\\": \\\"Pipeline\\\", \\\"pipeline_name\\\": \\\"{ MinMaxScaler, KNeighborsClassifier }\\\"}\", \"training_type\": \"MeanCrossValidation\", \"fit_time\": \"0.0055222\", \"goal\": \"accuracy_max\", \"primary_metric\": \"accuracy\", \"errors\": \"{}\", \"onnx_model_resource\": \"{'RawColumnNameToOnnxNameMap': {'sepal length (cm)': 'sepal_length__cm_', 'sepal width (cm)': 'sepal_width__cm_', 'petal length (cm)': 'petal_length__cm_', 'petal width (cm)': 'petal_width__cm_'}, 'InputRawColumnSchema': {'sepal length (cm)': 'floating', 'sepal width (cm)': 'floating', 'petal length (cm)': 'floating', 'petal width (cm)': 'floating'}, 'InputOnnxColumnSchema': {'sepal_length__cm_': 'FloatTensorType', 'sepal_width__cm_': 'FloatTensorType', 'petal_length__cm_': 'FloatTensorType', 'petal_width__cm_': 'FloatTensorType'}, 'CanEnableBatchMode': False}\", \"dependencies_versions\": \"{\\\"azureml-dataprep-native\\\": \\\"38.0.0\\\", \\\"azureml-dataprep\\\": \\\"4.11.4\\\", \\\"azureml-dataprep-rslex\\\": \\\"2.18.4\\\", \\\"azureml-automl-runtime\\\": \\\"1.52.0.post1\\\", \\\"azureml-automl-core\\\": \\\"1.52.0.post1\\\", \\\"azureml-pipeline-core\\\": \\\"1.52.0\\\", \\\"azureml-interpret\\\": \\\"1.52.0\\\", \\\"azureml-train-automl-runtime\\\": \\\"1.52.0\\\", \\\"azureml-training-tabular\\\": \\\"1.52.0\\\", \\\"azureml-telemetry\\\": \\\"1.52.0\\\", \\\"azureml-defaults\\\": \\\"1.52.0\\\", \\\"azureml-train-restclients-hyperdrive\\\": \\\"1.52.0\\\", \\\"azureml-train-core\\\": \\\"1.52.0\\\", \\\"azureml-dataset-runtime\\\": \\\"1.52.0\\\", \\\"azureml-core\\\": \\\"1.52.0\\\", \\\"azureml-train-automl-client\\\": \\\"1.52.0\\\", \\\"azureml-mlflow\\\": \\\"1.52.0\\\", \\\"azureml-responsibleai\\\": \\\"1.52.0\\\", \\\"azureml-inference-server-http\\\": \\\"0.8.4\\\"}\", \"num_cores\": \"4\", \"num_logical_cores\": \"4\", \"peak_memory_usage\": \"1063856\", \"vm_configuration\": \"x86_64\", \"core_hours\": \"0.006235923888888893\", \"feature_skus\": \"automatedml_sdk_guardrails\"}, \"tags\": {\"_aml_system_linked_batch_run_id\": \"AutoML_92037499-0e8d-40a4-83e5-73ecfc90c7f0_worker_0\", \"_aml_system_azureml.automlComponent\": \"AutoML\", \"_aml_system_codegen\": \"completed\", \"_aml_system_automl_is_child_run_end_telemetry_event_logged\": \"True\"}, \"script_name\": null, \"arguments\": null, \"end_time_utc\": \"2024-06-08T16:40:54.206816Z\", \"status\": \"Completed\", \"log_files\": {}, \"log_groups\": [], \"run_duration\": \"0:08:24\", \"run_number\": \"1717864349\", \"run_queued_details\": {\"status\": \"Completed\", \"details\": null}}, \"child_runs\": [], \"children_metrics\": {}, \"run_metrics\": [{\"name\": \"precision_score_weighted\", \"run_id\": \"AutoML_92037499-0e8d-40a4-83e5-73ecfc90c7f0_15\", \"categories\": [0], \"series\": [{\"data\": [0.9476923076923077]}]}, {\"name\": \"f1_score_micro\", \"run_id\": \"AutoML_92037499-0e8d-40a4-83e5-73ecfc90c7f0_15\", \"categories\": [0], \"series\": [{\"data\": [0.9466666666666667]}]}, {\"name\": \"recall_score_weighted\", \"run_id\": \"AutoML_92037499-0e8d-40a4-83e5-73ecfc90c7f0_15\", \"categories\": [0], \"series\": [{\"data\": [0.9466666666666667]}]}, {\"name\": \"precision_score_micro\", \"run_id\": \"AutoML_92037499-0e8d-40a4-83e5-73ecfc90c7f0_15\", \"categories\": [0], \"series\": [{\"data\": [0.9466666666666667]}]}, {\"name\": \"f1_score_macro\", \"run_id\": \"AutoML_92037499-0e8d-40a4-83e5-73ecfc90c7f0_15\", \"categories\": [0], \"series\": [{\"data\": [0.9445325105887765]}]}, {\"name\": \"AUC_macro\", \"run_id\": \"AutoML_92037499-0e8d-40a4-83e5-73ecfc90c7f0_15\", \"categories\": [0], \"series\": [{\"data\": [0.9972794839352812]}]}, {\"name\": \"weighted_accuracy\", \"run_id\": \"AutoML_92037499-0e8d-40a4-83e5-73ecfc90c7f0_15\", \"categories\": [0], \"series\": [{\"data\": [0.9472826277210586]}]}, {\"name\": \"recall_score_macro\", \"run_id\": \"AutoML_92037499-0e8d-40a4-83e5-73ecfc90c7f0_15\", \"categories\": [0], \"series\": [{\"data\": [0.9457142857142857]}]}, {\"name\": \"AUC_micro\", \"run_id\": \"AutoML_92037499-0e8d-40a4-83e5-73ecfc90c7f0_15\", \"categories\": [0], \"series\": [{\"data\": [0.9975555555555555]}]}, {\"name\": \"balanced_accuracy\", \"run_id\": \"AutoML_92037499-0e8d-40a4-83e5-73ecfc90c7f0_15\", \"categories\": [0], \"series\": [{\"data\": [0.9457142857142857]}]}, {\"name\": \"norm_macro_recall\", \"run_id\": \"AutoML_92037499-0e8d-40a4-83e5-73ecfc90c7f0_15\", \"categories\": [0], \"series\": [{\"data\": [0.9185714285714284]}]}, {\"name\": \"average_precision_score_micro\", \"run_id\": \"AutoML_92037499-0e8d-40a4-83e5-73ecfc90c7f0_15\", \"categories\": [0], \"series\": [{\"data\": [0.9953720618307658]}]}, {\"name\": \"f1_score_weighted\", \"run_id\": \"AutoML_92037499-0e8d-40a4-83e5-73ecfc90c7f0_15\", \"categories\": [0], \"series\": [{\"data\": [0.9465557260585393]}]}, {\"name\": \"AUC_weighted\", \"run_id\": \"AutoML_92037499-0e8d-40a4-83e5-73ecfc90c7f0_15\", \"categories\": [0], \"series\": [{\"data\": [0.9972670232344145]}]}, {\"name\": \"log_loss\", \"run_id\": \"AutoML_92037499-0e8d-40a4-83e5-73ecfc90c7f0_15\", \"categories\": [0], \"series\": [{\"data\": [0.08071471411247177]}]}, {\"name\": \"average_precision_score_weighted\", \"run_id\": \"AutoML_92037499-0e8d-40a4-83e5-73ecfc90c7f0_15\", \"categories\": [0], \"series\": [{\"data\": [0.9950897065897065]}]}, {\"name\": \"recall_score_micro\", \"run_id\": \"AutoML_92037499-0e8d-40a4-83e5-73ecfc90c7f0_15\", \"categories\": [0], \"series\": [{\"data\": [0.9466666666666667]}]}, {\"name\": \"accuracy\", \"run_id\": \"AutoML_92037499-0e8d-40a4-83e5-73ecfc90c7f0_15\", \"categories\": [0], \"series\": [{\"data\": [0.9466666666666667]}]}, {\"name\": \"precision_score_macro\", \"run_id\": \"AutoML_92037499-0e8d-40a4-83e5-73ecfc90c7f0_15\", \"categories\": [0], \"series\": [{\"data\": [0.9447171347171347]}]}, {\"name\": \"average_precision_score_macro\", \"run_id\": \"AutoML_92037499-0e8d-40a4-83e5-73ecfc90c7f0_15\", \"categories\": [0], \"series\": [{\"data\": [0.9947878253433811]}]}, {\"name\": \"matthews_correlation\", \"run_id\": \"AutoML_92037499-0e8d-40a4-83e5-73ecfc90c7f0_15\", \"categories\": [0], \"series\": [{\"data\": [0.9190354607927975]}]}, {\"name\": \"accuracy_table\", \"run_id\": \"AutoML_92037499-0e8d-40a4-83e5-73ecfc90c7f0_15\", \"categories\": [0], \"series\": [{\"data\": [{\"schema_type\": \"accuracy_table\", \"schema_version\": \"1.0.1\", \"data\": {\"probability_tables\": [[[50, 100, 0, 0], [50, 0, 100, 0], [50, 0, 100, 0], [50, 0, 100, 0], [50, 0, 100, 0], [50, 0, 100, 0], [50, 0, 100, 0], [50, 0, 100, 0], [50, 0, 100, 0], [50, 0, 100, 0], [50, 0, 100, 0], [50, 0, 100, 0], [50, 0, 100, 0], [50, 0, 100, 0], [50, 0, 100, 0], [50, 0, 100, 0], [50, 0, 100, 0], [50, 0, 100, 0], [50, 0, 100, 0], [50, 0, 100, 0], [50, 0, 100, 0], [50, 0, 100, 0], [50, 0, 100, 0], [50, 0, 100, 0], [50, 0, 100, 0], [50, 0, 100, 0], [50, 0, 100, 0], [50, 0, 100, 0], [50, 0, 100, 0], [50, 0, 100, 0], [50, 0, 100, 0], [50, 0, 100, 0], [50, 0, 100, 0], [50, 0, 100, 0], [50, 0, 100, 0], [50, 0, 100, 0], [50, 0, 100, 0], [50, 0, 100, 0], [50, 0, 100, 0], [50, 0, 100, 0], [50, 0, 100, 0], [50, 0, 100, 0], [50, 0, 100, 0], [50, 0, 100, 0], [50, 0, 100, 0], [50, 0, 100, 0], [50, 0, 100, 0], [50, 0, 100, 0], [50, 0, 100, 0], [50, 0, 100, 0], [50, 0, 100, 0], [50, 0, 100, 0], [50, 0, 100, 0], [50, 0, 100, 0], [50, 0, 100, 0], [50, 0, 100, 0], [50, 0, 100, 0], [50, 0, 100, 0], [50, 0, 100, 0], [50, 0, 100, 0], [50, 0, 100, 0], [50, 0, 100, 0], [50, 0, 100, 0], [50, 0, 100, 0], [50, 0, 100, 0], [50, 0, 100, 0], [50, 0, 100, 0], [50, 0, 100, 0], [50, 0, 100, 0], [50, 0, 100, 0], [50, 0, 100, 0], [50, 0, 100, 0], [50, 0, 100, 0], [50, 0, 100, 0], [50, 0, 100, 0], [50, 0, 100, 0], [50, 0, 100, 0], [50, 0, 100, 0], [50, 0, 100, 0], [50, 0, 100, 0], [50, 0, 100, 0], [50, 0, 100, 0], [50, 0, 100, 0], [50, 0, 100, 0], [50, 0, 100, 0], [50, 0, 100, 0], [50, 0, 100, 0], [50, 0, 100, 0], [50, 0, 100, 0], [50, 0, 100, 0], [50, 0, 100, 0], [50, 0, 100, 0], [50, 0, 100, 0], [50, 0, 100, 0], [50, 0, 100, 0], [50, 0, 100, 0], [50, 0, 100, 0], [50, 0, 100, 0], [50, 0, 100, 0], [50, 0, 100, 0]], [[50, 100, 0, 0], [50, 13, 87, 0], [50, 13, 87, 0], [50, 13, 87, 0], [50, 13, 87, 0], [50, 13, 87, 0], [50, 13, 87, 0], [50, 13, 87, 0], [50, 13, 87, 0], [50, 13, 87, 0], [50, 13, 87, 0], [50, 11, 89, 0], [50, 11, 89, 0], [50, 10, 90, 0], [50, 9, 91, 0], [50, 8, 92, 0], [50, 8, 92, 0], [50, 7, 93, 0], [50, 7, 93, 0], [50, 6, 94, 0], [50, 6, 94, 0], [50, 6, 94, 0], [50, 6, 94, 0], [49, 5, 95, 1], [49, 5, 95, 1], [49, 5, 95, 1], [49, 5, 95, 1], [49, 5, 95, 1], [49, 5, 95, 1], [49, 5, 95, 1], [47, 5, 95, 3], [47, 4, 96, 3], [47, 4, 96, 3], [47, 4, 96, 3], [47, 4, 96, 3], [47, 4, 96, 3], [47, 4, 96, 3], [47, 4, 96, 3], [47, 4, 96, 3], [47, 4, 96, 3], [47, 4, 96, 3], [47, 4, 96, 3], [47, 4, 96, 3], [47, 4, 96, 3], [47, 4, 96, 3], [47, 4, 96, 3], [47, 4, 96, 3], [47, 4, 96, 3], [47, 4, 96, 3], [46, 4, 96, 4], [46, 4, 96, 4], [46, 4, 96, 4], [46, 4, 96, 4], [46, 3, 97, 4], [46, 3, 97, 4], [46, 3, 97, 4], [46, 3, 97, 4], [46, 2, 98, 4], [46, 2, 98, 4], [46, 2, 98, 4], [46, 2, 98, 4], [46, 2, 98, 4], [46, 2, 98, 4], [46, 2, 98, 4], [46, 2, 98, 4], [46, 2, 98, 4], [46, 2, 98, 4], [46, 2, 98, 4], [46, 2, 98, 4], [46, 2, 98, 4], [46, 2, 98, 4], [46, 1, 99, 4], [46, 1, 99, 4], [46, 1, 99, 4], [46, 1, 99, 4], [45, 1, 99, 5], [45, 1, 99, 5], [45, 1, 99, 5], [45, 1, 99, 5], [45, 1, 99, 5], [44, 1, 99, 6], [44, 1, 99, 6], [44, 1, 99, 6], [44, 0, 100, 6], [44, 0, 100, 6], [42, 0, 100, 8], [40, 0, 100, 10], [40, 0, 100, 10], [40, 0, 100, 10], [40, 0, 100, 10], [39, 0, 100, 11], [39, 0, 100, 11], [39, 0, 100, 11], [39, 0, 100, 11], [39, 0, 100, 11], [39, 0, 100, 11], [39, 0, 100, 11], [39, 0, 100, 11], [39, 0, 100, 11], [39, 0, 100, 11]], [[50, 100, 0, 0], [50, 11, 89, 0], [50, 11, 89, 0], [50, 11, 89, 0], [50, 11, 89, 0], [50, 11, 89, 0], [50, 11, 89, 0], [50, 11, 89, 0], [50, 11, 89, 0], [50, 11, 89, 0], [50, 10, 90, 0], [50, 10, 90, 0], [50, 10, 90, 0], [50, 10, 90, 0], [50, 8, 92, 0], [50, 6, 94, 0], [50, 6, 94, 0], [49, 6, 94, 1], [49, 6, 94, 1], [49, 6, 94, 1], [49, 5, 95, 1], [49, 5, 95, 1], [49, 5, 95, 1], [49, 5, 95, 1], [49, 5, 95, 1], [49, 4, 96, 1], [49, 4, 96, 1], [49, 4, 96, 1], [49, 4, 96, 1], [48, 4, 96, 2], [48, 4, 96, 2], [48, 4, 96, 2], [48, 4, 96, 2], [48, 4, 96, 2], [48, 4, 96, 2], [48, 4, 96, 2], [48, 4, 96, 2], [48, 4, 96, 2], [48, 4, 96, 2], [48, 4, 96, 2], [48, 4, 96, 2], [48, 4, 96, 2], [48, 4, 96, 2], [47, 4, 96, 3], [47, 4, 96, 3], [47, 4, 96, 3], [47, 4, 96, 3], [46, 4, 96, 4], [46, 4, 96, 4], [46, 4, 96, 4], [46, 4, 96, 4], [46, 3, 97, 4], [46, 3, 97, 4], [46, 3, 97, 4], [46, 3, 97, 4], [46, 3, 97, 4], [46, 3, 97, 4], [46, 3, 97, 4], [46, 3, 97, 4], [46, 3, 97, 4], [46, 3, 97, 4], [46, 3, 97, 4], [46, 3, 97, 4], [46, 3, 97, 4], [46, 3, 97, 4], [46, 3, 97, 4], [46, 3, 97, 4], [46, 3, 97, 4], [46, 3, 97, 4], [45, 3, 97, 5], [45, 1, 99, 5], [45, 1, 99, 5], [45, 1, 99, 5], [45, 1, 99, 5], [45, 1, 99, 5], [45, 1, 99, 5], [45, 1, 99, 5], [44, 0, 100, 6], [44, 0, 100, 6], [44, 0, 100, 6], [44, 0, 100, 6], [43, 0, 100, 7], [43, 0, 100, 7], [42, 0, 100, 8], [42, 0, 100, 8], [41, 0, 100, 9], [40, 0, 100, 10], [39, 0, 100, 11], [39, 0, 100, 11], [37, 0, 100, 13], [37, 0, 100, 13], [37, 0, 100, 13], [37, 0, 100, 13], [37, 0, 100, 13], [37, 0, 100, 13], [37, 0, 100, 13], [37, 0, 100, 13], [37, 0, 100, 13], [37, 0, 100, 13], [36, 0, 100, 14]]], \"percentile_tables\": [[[50, 100, 0, 0], [50, 100, 0, 0], [50, 100, 0, 0], [50, 100, 0, 0], [50, 100, 0, 0], [50, 100, 0, 0], [50, 100, 0, 0], [50, 100, 0, 0], [50, 100, 0, 0], [50, 100, 0, 0], [50, 100, 0, 0], [50, 100, 0, 0], [50, 100, 0, 0], [50, 100, 0, 0], [50, 100, 0, 0], [50, 100, 0, 0], [50, 100, 0, 0], [50, 100, 0, 0], [50, 100, 0, 0], [50, 100, 0, 0], [50, 100, 0, 0], [50, 100, 0, 0], [50, 100, 0, 0], [50, 100, 0, 0], [50, 100, 0, 0], [50, 100, 0, 0], [50, 100, 0, 0], [50, 100, 0, 0], [50, 100, 0, 0], [50, 100, 0, 0], [50, 100, 0, 0], [50, 100, 0, 0], [50, 100, 0, 0], [50, 100, 0, 0], [50, 100, 0, 0], [50, 100, 0, 0], [50, 100, 0, 0], [50, 100, 0, 0], [50, 100, 0, 0], [50, 100, 0, 0], [50, 100, 0, 0], [50, 100, 0, 0], [50, 100, 0, 0], [50, 100, 0, 0], [50, 100, 0, 0], [50, 100, 0, 0], [50, 100, 0, 0], [50, 100, 0, 0], [50, 100, 0, 0], [50, 100, 0, 0], [50, 100, 0, 0], [50, 100, 0, 0], [50, 100, 0, 0], [50, 100, 0, 0], [50, 100, 0, 0], [50, 100, 0, 0], [50, 100, 0, 0], [50, 100, 0, 0], [50, 81, 19, 0], [50, 60, 40, 0], [50, 60, 40, 0], [50, 41, 59, 0], [50, 20, 80, 0], [50, 0, 100, 0], [50, 0, 100, 0], [50, 0, 100, 0], [50, 0, 100, 0], [50, 0, 100, 0], [50, 0, 100, 0], [50, 0, 100, 0], [50, 0, 100, 0], [50, 0, 100, 0], [50, 0, 100, 0], [50, 0, 100, 0], [50, 0, 100, 0], [50, 0, 100, 0], [50, 0, 100, 0], [50, 0, 100, 0], [50, 0, 100, 0], [50, 0, 100, 0], [50, 0, 100, 0], [50, 0, 100, 0], [50, 0, 100, 0], [50, 0, 100, 0], [50, 0, 100, 0], [50, 0, 100, 0], [50, 0, 100, 0], [50, 0, 100, 0], [50, 0, 100, 0], [50, 0, 100, 0], [50, 0, 100, 0], [50, 0, 100, 0], [50, 0, 100, 0], [50, 0, 100, 0], [50, 0, 100, 0], [50, 0, 100, 0], [50, 0, 100, 0], [50, 0, 100, 0], [50, 0, 100, 0], [50, 0, 100, 0]], [[50, 100, 0, 0], [50, 100, 0, 0], [50, 100, 0, 0], [50, 100, 0, 0], [50, 100, 0, 0], [50, 100, 0, 0], [50, 100, 0, 0], [50, 100, 0, 0], [50, 100, 0, 0], [50, 100, 0, 0], [50, 100, 0, 0], [50, 100, 0, 0], [50, 100, 0, 0], [50, 100, 0, 0], [50, 100, 0, 0], [50, 100, 0, 0], [50, 100, 0, 0], [50, 100, 0, 0], [50, 100, 0, 0], [50, 100, 0, 0], [50, 100, 0, 0], [50, 100, 0, 0], [50, 100, 0, 0], [50, 100, 0, 0], [50, 100, 0, 0], [50, 100, 0, 0], [50, 100, 0, 0], [50, 100, 0, 0], [50, 100, 0, 0], [50, 100, 0, 0], [50, 100, 0, 0], [50, 100, 0, 0], [50, 100, 0, 0], [50, 100, 0, 0], [50, 100, 0, 0], [50, 100, 0, 0], [50, 100, 0, 0], [50, 100, 0, 0], [50, 100, 0, 0], [50, 100, 0, 0], [50, 100, 0, 0], [50, 100, 0, 0], [50, 100, 0, 0], [50, 100, 0, 0], [50, 100, 0, 0], [50, 100, 0, 0], [50, 100, 0, 0], [50, 100, 0, 0], [50, 100, 0, 0], [50, 100, 0, 0], [50, 100, 0, 0], [50, 100, 0, 0], [50, 100, 0, 0], [50, 100, 0, 0], [50, 100, 0, 0], [50, 100, 0, 0], [50, 100, 0, 0], [50, 100, 0, 0], [50, 83, 17, 0], [50, 69, 31, 0], [50, 69, 31, 0], [50, 49, 51, 0], [50, 29, 71, 0], [50, 8, 92, 0], [49, 6, 94, 1], [47, 6, 94, 3], [46, 4, 96, 4], [46, 2, 98, 4], [44, 1, 99, 6], [43, 0, 100, 7], [43, 0, 100, 7], [41, 0, 100, 9], [39, 0, 100, 11], [39, 0, 100, 11], [39, 0, 100, 11], [39, 0, 100, 11], [39, 0, 100, 11], [39, 0, 100, 11], [39, 0, 100, 11], [39, 0, 100, 11], [39, 0, 100, 11], [39, 0, 100, 11], [39, 0, 100, 11], [39, 0, 100, 11], [39, 0, 100, 11], [39, 0, 100, 11], [39, 0, 100, 11], [39, 0, 100, 11], [39, 0, 100, 11], [39, 0, 100, 11], [39, 0, 100, 11], [39, 0, 100, 11], [39, 0, 100, 11], [39, 0, 100, 11], [39, 0, 100, 11], [39, 0, 100, 11], [39, 0, 100, 11], [39, 0, 100, 11], [39, 0, 100, 11], [39, 0, 100, 11]], [[50, 100, 0, 0], [50, 100, 0, 0], [50, 100, 0, 0], [50, 100, 0, 0], [50, 100, 0, 0], [50, 100, 0, 0], [50, 100, 0, 0], [50, 100, 0, 0], [50, 100, 0, 0], [50, 100, 0, 0], [50, 100, 0, 0], [50, 100, 0, 0], [50, 100, 0, 0], [50, 100, 0, 0], [50, 100, 0, 0], [50, 100, 0, 0], [50, 100, 0, 0], [50, 100, 0, 0], [50, 100, 0, 0], [50, 100, 0, 0], [50, 100, 0, 0], [50, 100, 0, 0], [50, 100, 0, 0], [50, 100, 0, 0], [50, 100, 0, 0], [50, 100, 0, 0], [50, 100, 0, 0], [50, 100, 0, 0], [50, 100, 0, 0], [50, 100, 0, 0], [50, 100, 0, 0], [50, 100, 0, 0], [50, 100, 0, 0], [50, 100, 0, 0], [50, 100, 0, 0], [50, 100, 0, 0], [50, 100, 0, 0], [50, 100, 0, 0], [50, 100, 0, 0], [50, 100, 0, 0], [50, 100, 0, 0], [50, 100, 0, 0], [50, 100, 0, 0], [50, 100, 0, 0], [50, 100, 0, 0], [50, 100, 0, 0], [50, 100, 0, 0], [50, 100, 0, 0], [50, 100, 0, 0], [50, 100, 0, 0], [50, 100, 0, 0], [50, 100, 0, 0], [50, 100, 0, 0], [50, 100, 0, 0], [50, 100, 0, 0], [50, 100, 0, 0], [50, 100, 0, 0], [50, 100, 0, 0], [50, 83, 17, 0], [50, 63, 37, 0], [50, 63, 37, 0], [50, 45, 55, 0], [50, 27, 73, 0], [50, 7, 93, 0], [49, 6, 94, 1], [48, 4, 96, 2], [46, 4, 96, 4], [44, 3, 97, 6], [44, 1, 99, 6], [42, 0, 100, 8], [42, 0, 100, 8], [40, 0, 100, 10], [39, 0, 100, 11], [37, 0, 100, 13], [36, 0, 100, 14], [36, 0, 100, 14], [36, 0, 100, 14], [36, 0, 100, 14], [36, 0, 100, 14], [36, 0, 100, 14], [36, 0, 100, 14], [36, 0, 100, 14], [36, 0, 100, 14], [36, 0, 100, 14], [36, 0, 100, 14], [36, 0, 100, 14], [36, 0, 100, 14], [36, 0, 100, 14], [36, 0, 100, 14], [36, 0, 100, 14], [36, 0, 100, 14], [36, 0, 100, 14], [36, 0, 100, 14], [36, 0, 100, 14], [36, 0, 100, 14], [36, 0, 100, 14], [36, 0, 100, 14], [36, 0, 100, 14], [36, 0, 100, 14], [36, 0, 100, 14]]], \"probability_thresholds\": [0.0, 0.010101010101010102, 0.020202020202020204, 0.030303030303030304, 0.04040404040404041, 0.05050505050505051, 0.06060606060606061, 0.07070707070707072, 0.08080808080808081, 0.09090909090909091, 0.10101010101010102, 0.11111111111111112, 0.12121212121212122, 0.13131313131313133, 0.14141414141414144, 0.15151515151515152, 0.16161616161616163, 0.17171717171717174, 0.18181818181818182, 0.19191919191919193, 0.20202020202020204, 0.21212121212121213, 0.22222222222222224, 0.23232323232323235, 0.24242424242424243, 0.25252525252525254, 0.26262626262626265, 0.27272727272727276, 0.2828282828282829, 0.29292929292929293, 0.30303030303030304, 0.31313131313131315, 0.32323232323232326, 0.33333333333333337, 0.3434343434343435, 0.3535353535353536, 0.36363636363636365, 0.37373737373737376, 0.38383838383838387, 0.393939393939394, 0.4040404040404041, 0.4141414141414142, 0.42424242424242425, 0.43434343434343436, 0.4444444444444445, 0.4545454545454546, 0.4646464646464647, 0.4747474747474748, 0.48484848484848486, 0.494949494949495, 0.5050505050505051, 0.5151515151515152, 0.5252525252525253, 0.5353535353535354, 0.5454545454545455, 0.5555555555555556, 0.5656565656565657, 0.5757575757575758, 0.5858585858585859, 0.595959595959596, 0.6060606060606061, 0.6161616161616162, 0.6262626262626263, 0.6363636363636365, 0.6464646464646465, 0.6565656565656566, 0.6666666666666667, 0.6767676767676768, 0.686868686868687, 0.696969696969697, 0.7070707070707072, 0.7171717171717172, 0.7272727272727273, 0.7373737373737375, 0.7474747474747475, 0.7575757575757577, 0.7676767676767677, 0.7777777777777778, 0.787878787878788, 0.797979797979798, 0.8080808080808082, 0.8181818181818182, 0.8282828282828284, 0.8383838383838385, 0.8484848484848485, 0.8585858585858587, 0.8686868686868687, 0.8787878787878789, 0.888888888888889, 0.8989898989898991, 0.9090909090909092, 0.9191919191919192, 0.9292929292929294, 0.9393939393939394, 0.9494949494949496, 0.9595959595959597, 0.9696969696969697, 0.9797979797979799, 0.98989898989899, 1.0], \"percentile_thresholds\": [0.0, 0.0, 0.0, 0.0, 0.0, 0.0, 0.0, 0.0, 0.0, 0.0, 0.0, 0.0, 0.0, 0.0, 0.0, 0.0, 0.0, 0.0, 0.0, 0.0, 0.0, 0.0, 0.0, 0.0, 0.0, 0.0, 0.0, 0.0, 0.0, 0.0, 0.0, 0.0, 0.0, 0.0, 0.0, 0.0, 0.0, 0.0, 0.0, 0.0, 0.0, 0.0, 0.0, 0.0, 0.0, 0.0, 0.0, 0.0, 0.0, 0.0, 0.0, 0.0, 0.0, 0.0, 0.0, 0.0, 0.0, 0.0, 0.0, 4.418221436577102e-08, 1.0272364840039646e-06, 0.12019839482512584, 0.14653616126983507, 0.19716327764227487, 0.26365603618737943, 0.3709499005932946, 0.4891648823382083, 0.5721576595512795, 0.7125543418210581, 0.7769086371789597, 0.8468358972065425, 0.8558934733986728, 0.9608985795562965, 0.9999995913145171, 1.0, 1.0, 1.0, 1.0, 1.0, 1.0, 1.0, 1.0, 1.0, 1.0, 1.0, 1.0, 1.0, 1.0, 1.0, 1.0, 1.0, 1.0, 1.0, 1.0, 1.0, 1.0, 1.0, 1.0, 1.0, 1.0], \"class_labels\": [\"0\", \"1\", \"2\"]}}]}]}, {\"name\": \"confusion_matrix\", \"run_id\": \"AutoML_92037499-0e8d-40a4-83e5-73ecfc90c7f0_15\", \"categories\": [0], \"series\": [{\"data\": [{\"schema_type\": \"confusion_matrix\", \"schema_version\": \"1.0.0\", \"data\": {\"class_labels\": [\"0\", \"1\", \"2\"], \"matrix\": [[50, 0, 0], [0, 46, 4], [0, 4, 46]]}}]}]}], \"run_logs\": \"\\nRun is completed.\", \"graph\": {\"module_nodes\": {\"2023f7ed\": {\"node_id\": \"2023f7ed\", \"name\": \"MinMaxScaler\", \"status\": \"model\"}, \"59aef611\": {\"node_id\": \"59aef611\", \"name\": \"KNeighborsClassifier\", \"status\": \"model\"}, \"50d9c308\": {\"node_id\": \"50d9c308\", \"name\": \"Numeric\", \"status\": \"dataType\"}, \"f037e49d\": {\"node_id\": \"f037e49d\", \"name\": \"MeanImputer\", \"status\": \"operation\"}}, \"edges\": [{\"source_node_id\": \"2023f7ed\", \"source_node_name\": \"\", \"source_name\": \"\", \"target_name\": \"\", \"dst_node_id\": \"59aef611\", \"dst_node_name\": \"\"}, {\"source_node_id\": \"d80ca0a0\", \"source_node_name\": \"data_source\", \"source_name\": \"\", \"target_name\": \"4 col\", \"dst_node_id\": \"50d9c308\", \"dst_node_name\": \"Numeric\"}, {\"source_node_id\": \"50d9c308\", \"source_node_name\": \"\", \"source_name\": \"\", \"target_name\": \"\", \"dst_node_id\": \"f037e49d\", \"dst_node_name\": \"\"}, {\"source_node_id\": \"f037e49d\", \"source_node_name\": \"\", \"source_name\": \"\", \"target_name\": \"1 col\", \"dst_node_id\": \"2023f7ed\", \"dst_node_name\": \"\"}], \"child_runs\": [], \"datasource_nodes\": {\"d80ca0a0\": {\"node_id\": \"d80ca0a0\", \"name\": \"data_source - 4 col\"}}}, \"widget_settings\": {\"childWidgetDisplay\": \"popup\", \"send_telemetry\": false, \"log_level\": \"INFO\", \"sdk_version\": \"1.51.0\", \"display\": \"popup\"}, \"loading\": false}"
     },
     "metadata": {},
     "output_type": "display_data"
    }
   ],
   "source": [
    "RunDetails(remote_run).show()"
   ]
  },
  {
   "cell_type": "markdown",
   "metadata": {},
   "source": [
    "## Best Model\n",
    "\n",
    "TODO: In the cell below, get the best model from the automl experiments and display all the properties of the model.\n",
    "\n"
   ]
  },
  {
   "cell_type": "code",
   "execution_count": 9,
   "metadata": {
    "gather": {
     "logged": 1598431425670
    },
    "jupyter": {
     "outputs_hidden": false,
     "source_hidden": false
    },
    "nteract": {
     "transient": {
      "deleting": false
     }
    },
    "scrolled": true
   },
   "outputs": [
    {
     "name": "stderr",
     "output_type": "stream",
     "text": [
      "WARNING:root:The version of the SDK does not match the version the model was trained on.\n",
      "WARNING:root:The consistency in the result may not be guaranteed.\n",
      "WARNING:root:Package:azureml-automl-core, training version:1.52.0.post1, current version:1.51.0.post1\n",
      "Package:azureml-automl-runtime, training version:1.52.0.post1, current version:1.51.0.post1\n",
      "Package:azureml-core, training version:1.52.0, current version:1.51.0\n",
      "Package:azureml-dataprep, training version:4.11.4, current version:4.10.8\n",
      "Package:azureml-dataprep-rslex, training version:2.18.4, current version:2.17.12\n",
      "Package:azureml-dataset-runtime, training version:1.52.0, current version:1.51.0\n",
      "Package:azureml-defaults, training version:1.52.0, current version:1.51.0\n",
      "Package:azureml-interpret, training version:1.52.0, current version:1.51.0\n",
      "Package:azureml-mlflow, training version:1.52.0, current version:1.51.0\n",
      "Package:azureml-pipeline-core, training version:1.52.0, current version:1.51.0\n",
      "Package:azureml-responsibleai, training version:1.52.0, current version:1.51.0\n",
      "Package:azureml-telemetry, training version:1.52.0, current version:1.51.0\n",
      "Package:azureml-train-automl-client, training version:1.52.0, current version:1.51.0.post1\n",
      "Package:azureml-train-automl-runtime, training version:1.52.0, current version:1.51.0.post2\n",
      "Package:azureml-train-core, training version:1.52.0, current version:1.51.0\n",
      "Package:azureml-train-restclients-hyperdrive, training version:1.52.0, current version:1.51.0\n",
      "Package:azureml-training-tabular, training version:1.52.0, current version:1.51.0.post1\n",
      "WARNING:root:Please ensure the version of your local conda dependencies match the version on which your model was trained in order to properly retrieve your model.\n"
     ]
    },
    {
     "name": "stdout",
     "output_type": "stream",
     "text": [
      "Best Model:  Run(Experiment: exp_iris_automl,\n",
      "Id: AutoML_92037499-0e8d-40a4-83e5-73ecfc90c7f0_12,\n",
      "Type: None,\n",
      "Status: Completed)\n",
      "Best Model Details:  Pipeline(memory=None,\n",
      "         steps=[('datatransformer',\n",
      "                 DataTransformer(enable_dnn=False, enable_feature_sweeping=False, feature_sweeping_config={}, feature_sweeping_timeout=86400, featurization_config=None, force_text_dnn=False, is_cross_validation=True, is_onnx_compatible=True, observer=None, task='classification', working_dir='/mnt/batch/tasks/shared/LS_root/mount...\n",
      "                 StandardScalerWrapper(copy=True, with_mean=True, with_std=False)),\n",
      "                ('LogisticRegression',\n",
      "                 LogisticRegression(C=16.768329368110066, class_weight=None,\n",
      "                                    dual=False, fit_intercept=True,\n",
      "                                    intercept_scaling=1, l1_ratio=None,\n",
      "                                    max_iter=100, multi_class='multinomial',\n",
      "                                    n_jobs=1, penalty='l2', random_state=None,\n",
      "                                    solver='lbfgs', tol=0.0001, verbose=0,\n",
      "                                    warm_start=False))],\n",
      "         verbose=False)\n"
     ]
    }
   ],
   "source": [
    "best_run, fitted_model = remote_run.get_output()\n",
    "print(\"Best Model: \", best_run)\n",
    "print(\"Best Model Details: \", fitted_model)"
   ]
  },
  {
   "cell_type": "code",
   "execution_count": 10,
   "metadata": {
    "gather": {
     "logged": 1598431426111
    },
    "jupyter": {
     "outputs_hidden": false,
     "source_hidden": false
    },
    "nteract": {
     "transient": {
      "deleting": false
     }
    }
   },
   "outputs": [],
   "source": [
    "#TODO: Save the best model\n",
    "model = best_run.register_model(model_name='automl_best_model', model_path='outputs/model.pkl')"
   ]
  },
  {
   "cell_type": "markdown",
   "metadata": {},
   "source": [
    "## Model Deployment\n",
    "\n",
    "Remember you have to deploy only one of the two models you trained but you still need to register both the models. Perform the steps in the rest of this notebook only if you wish to deploy this model.\n",
    "\n",
    "TODO: In the cell below, register the model, create an inference config and deploy the model as a web service."
   ]
  },
  {
   "cell_type": "code",
   "execution_count": 14,
   "metadata": {
    "gather": {
     "logged": 1598431435189
    },
    "jupyter": {
     "outputs_hidden": false,
     "source_hidden": false
    },
    "nteract": {
     "transient": {
      "deleting": false
     }
    },
    "scrolled": true
   },
   "outputs": [
    {
     "name": "stdout",
     "output_type": "stream",
     "text": [
      "Tips: You can try get_logs(): https://aka.ms/debugimage#dockerlog or local deployment: https://aka.ms/debugimage#debug-locally to debug if deployment takes longer than 10 minutes.\n",
      "Running\n",
      "2024-06-08 17:07:40+00:00 Creating Container Registry if not exists.\n",
      "2024-06-08 17:07:40+00:00 Registering the environment.\n",
      "2024-06-08 17:07:40+00:00 Use the existing image.\n",
      "2024-06-08 17:07:41+00:00 Generating deployment configuration.\n",
      "2024-06-08 17:07:41+00:00 Submitting deployment to compute.\n",
      "2024-06-08 17:07:44+00:00 Checking the status of deployment service-automl..\n",
      "2024-06-08 17:11:08+00:00 Checking the status of inference endpoint service-automl.\n",
      "Succeeded\n",
      "ACI service creation operation finished, operation \"Succeeded\"\n",
      "Healthy\n"
     ]
    }
   ],
   "source": [
    "# Retrieve the environment used in the AutoML run\n",
    "env = best_run.get_environment()\n",
    "\n",
    "# Inference configuration\n",
    "inference_config = InferenceConfig(entry_script=\"score_automl.py\", environment=env)\n",
    "\n",
    "# Deploy the model\n",
    "aci_config = AciWebservice.deploy_configuration(cpu_cores=1, memory_gb=1)\n",
    "\n",
    "service_name = \"service-automl\"\n",
    "\n",
    "service = Model.deploy(workspace=ws,\n",
    "                       name=service_name,\n",
    "                       models=[model],\n",
    "                       inference_config=inference_config,\n",
    "                       deployment_config=aci_config,\n",
    "                       overwrite=True)\n",
    "\n",
    "service.wait_for_deployment(show_output=True)\n",
    "print(service.state)"
   ]
  },
  {
   "cell_type": "markdown",
   "metadata": {
    "collapsed": true,
    "gather": {
     "logged": 1598431657736
    },
    "jupyter": {
     "outputs_hidden": false,
     "source_hidden": false
    },
    "nteract": {
     "transient": {
      "deleting": false
     }
    }
   },
   "source": [
    "TODO: In the cell below, send a request to the web service you deployed to test it."
   ]
  },
  {
   "cell_type": "code",
   "execution_count": 15,
   "metadata": {
    "gather": {
     "logged": 1598432707604
    },
    "jupyter": {
     "outputs_hidden": false,
     "source_hidden": false
    },
    "nteract": {
     "transient": {
      "deleting": false
     }
    }
   },
   "outputs": [
    {
     "name": "stdout",
     "output_type": "stream",
     "text": [
      "\"{\\\"result\\\": [0]}\"\n"
     ]
    }
   ],
   "source": [
    "test_sample = json.dumps({'data': [iris.data[0].tolist()]})\n",
    "headers = {'Content-Type': 'application/json'}\n",
    "\n",
    "response = requests.post(service.scoring_uri, data=test_sample, headers=headers)\n",
    "print(response.text)"
   ]
  },
  {
   "cell_type": "markdown",
   "metadata": {
    "collapsed": true,
    "gather": {
     "logged": 1598432765711
    },
    "jupyter": {
     "outputs_hidden": false,
     "source_hidden": false
    },
    "nteract": {
     "transient": {
      "deleting": false
     }
    }
   },
   "source": [
    "TODO: In the cell below, print the logs of the web service and delete the service"
   ]
  },
  {
   "cell_type": "code",
   "execution_count": 16,
   "metadata": {
    "jupyter": {
     "outputs_hidden": false,
     "source_hidden": false
    },
    "nteract": {
     "transient": {
      "deleting": false
     }
    }
   },
   "outputs": [
    {
     "name": "stdout",
     "output_type": "stream",
     "text": [
      "2024-06-08T17:10:04,437409174+00:00 - rsyslog/run \n",
      "2024-06-08T17:10:04,445003174+00:00 - gunicorn/run \n",
      "2024-06-08T17:10:04,453041674+00:00 | gunicorn/run | \n",
      "2024-06-08T17:10:04,455838174+00:00 | gunicorn/run | ###############################################\n",
      "2024-06-08T17:10:04,460813574+00:00 | gunicorn/run | AzureML Container Runtime Information\n",
      "2024-06-08T17:10:04,462405574+00:00 - nginx/run \n",
      "2024-06-08T17:10:04,463025774+00:00 | gunicorn/run | ###############################################\n",
      "2024-06-08T17:10:04,464695274+00:00 | gunicorn/run | \n",
      "2024-06-08T17:10:04,472060974+00:00 | gunicorn/run | \n",
      "2024-06-08T17:10:04,482951774+00:00 | gunicorn/run | AzureML image information: openmpi4.1.0-ubuntu20.04, Materializaton Build:20230628.v2\n",
      "2024-06-08T17:10:04,488905574+00:00 | gunicorn/run | \n",
      "2024-06-08T17:10:04,494282274+00:00 | gunicorn/run | \n",
      "2024-06-08T17:10:04,500357474+00:00 | gunicorn/run | PATH environment variable: /azureml-envs/azureml-automl/bin:/opt/miniconda/bin:/usr/local/sbin:/usr/local/bin:/usr/sbin:/usr/bin:/sbin:/bin\n",
      "2024-06-08T17:10:04,505817374+00:00 | gunicorn/run | PYTHONPATH environment variable: \n",
      "2024-06-08T17:10:04,515710174+00:00 | gunicorn/run | \n",
      "2024-06-08T17:10:05,610240974+00:00 | gunicorn/run | CONDAPATH environment variable: /opt/miniconda\n",
      "\n",
      "# conda environments:\n",
      "#\n",
      "                         /azureml-envs/azureml-automl\n",
      "base                     /opt/miniconda\n",
      "\n",
      "2024-06-08T17:10:07,203037274+00:00 | gunicorn/run | \n",
      "2024-06-08T17:10:07,205900974+00:00 | gunicorn/run | Pip Dependencies (before dynamic installation)\n",
      "\n",
      "adal==1.2.7\n",
      "applicationinsights==0.11.10\n",
      "arch==5.3.1\n",
      "argcomplete==2.1.2\n",
      "argon2-cffi==21.3.0\n",
      "argon2-cffi-bindings==21.2.0\n",
      "asttokens==2.2.1\n",
      "attrs==23.1.0\n",
      "azure-common==1.1.28\n",
      "azure-core==1.27.1\n",
      "azure-graphrbac==0.61.1\n",
      "azure-identity==1.13.0\n",
      "azure-mgmt-authorization==3.0.0\n",
      "azure-mgmt-containerregistry==10.1.0\n",
      "azure-mgmt-core==1.4.0\n",
      "azure-mgmt-keyvault==10.2.2\n",
      "azure-mgmt-resource==22.0.0\n",
      "azure-mgmt-storage==21.0.0\n",
      "azure-storage-blob==12.13.0\n",
      "azure-storage-queue==12.6.0\n",
      "azureml-automl-core==1.52.0.post1\n",
      "azureml-automl-runtime==1.52.0.post1\n",
      "azureml-core==1.52.0\n",
      "azureml-dataprep==4.11.4\n",
      "azureml-dataprep-native==38.0.0\n",
      "azureml-dataprep-rslex==2.18.4\n",
      "azureml-dataset-runtime==1.52.0\n",
      "azureml-defaults==1.52.0\n",
      "azureml-inference-server-http==0.8.4\n",
      "azureml-interpret==1.52.0\n",
      "azureml-mlflow==1.52.0\n",
      "azureml-pipeline-core==1.52.0\n",
      "azureml-responsibleai==1.52.0\n",
      "azureml-telemetry==1.52.0\n",
      "azureml-train-automl-client==1.52.0\n",
      "azureml-train-automl-runtime==1.52.0\n",
      "azureml-train-core==1.52.0\n",
      "azureml-train-restclients-hyperdrive==1.52.0\n",
      "azureml-training-tabular==1.52.0\n",
      "backcall==0.2.0\n",
      "backports.tempfile==1.0\n",
      "backports.weakref==1.0.post1\n",
      "bcrypt==4.0.1\n",
      "beautifulsoup4==4.12.2\n",
      "bleach==6.0.0\n",
      "bokeh==2.4.3\n",
      "boto==2.49.0\n",
      "boto3==1.20.19\n",
      "botocore==1.23.19\n",
      "Brotli @ file:///home/conda/feedstock_root/build_artifacts/brotli-split_1687884021435/work\n",
      "cachetools==5.3.1\n",
      "certifi==2023.5.7\n",
      "cffi @ file:///home/conda/feedstock_root/build_artifacts/cffi_1671179356964/work\n",
      "charset-normalizer @ file:///home/conda/feedstock_root/build_artifacts/charset-normalizer_1678108872112/work\n",
      "click==8.1.4\n",
      "cloudpickle @ file:///home/conda/feedstock_root/build_artifacts/cloudpickle_1598400192773/work\n",
      "cmdstanpy==0.9.5\n",
      "contextlib2==21.6.0\n",
      "contourpy==1.1.0\n",
      "convertdate @ file:///home/conda/feedstock_root/build_artifacts/convertdate_1642883757836/work\n",
      "cryptography==41.0.0\n",
      "cycler==0.11.0\n",
      "Cython==0.29.17\n",
      "dask==2023.2.0\n",
      "databricks-cli==0.17.7\n",
      "dataclasses==0.6\n",
      "debugpy==1.6.7\n",
      "decorator==5.1.1\n",
      "defusedxml==0.7.1\n",
      "dice-ml==0.9\n",
      "dill==0.3.6\n",
      "distributed==2023.2.0\n",
      "distro==1.8.0\n",
      "docker==6.1.3\n",
      "dotnetcore2==3.1.23\n",
      "econml==0.14.1\n",
      "entrypoints==0.4\n",
      "ephem==4.1.4\n",
      "erroranalysis==0.4.4\n",
      "executing==1.2.0\n",
      "fairlearn==0.8.0\n",
      "fastjsonschema==2.17.1\n",
      "fbprophet==0.7.1\n",
      "fire==0.5.0\n",
      "Flask==2.2.5\n",
      "Flask-Cors==3.0.10\n",
      "flatbuffers==23.5.26\n",
      "fonttools==4.40.0\n",
      "fsspec==2023.6.0\n",
      "fusepy==3.0.1\n",
      "gensim==3.8.3\n",
      "gitdb==4.0.10\n",
      "GitPython==3.1.31\n",
      "google-api-core==2.11.1\n",
      "google-auth==2.21.0\n",
      "googleapis-common-protos==1.59.1\n",
      "gunicorn==20.1.0\n",
      "h5py==3.9.0\n",
      "holidays @ file:///home/conda/feedstock_root/build_artifacts/holidays_1595448845196/work\n",
      "humanfriendly==10.0\n",
      "idna @ file:///home/conda/feedstock_root/build_artifacts/idna_1663625384323/work\n",
      "importlib-metadata==6.8.0\n",
      "importlib-resources==5.13.0\n",
      "inference-schema==1.5.1\n",
      "interpret-community==0.29.0\n",
      "interpret-core==0.3.2\n",
      "ipykernel==6.8.0\n",
      "ipython==8.12.2\n",
      "ipython-genutils==0.2.0\n",
      "isodate==0.6.1\n",
      "itsdangerous==2.1.2\n",
      "jedi==0.18.2\n",
      "jeepney==0.8.0\n",
      "Jinja2==3.1.2\n",
      "jmespath==0.10.0\n",
      "joblib @ file:///home/conda/feedstock_root/build_artifacts/joblib_1663332044897/work\n",
      "jsonpickle==3.0.1\n",
      "jsonschema==4.18.0\n",
      "jsonschema-specifications==2023.6.1\n",
      "jupyter_client==7.4.9\n",
      "jupyter_core==5.3.1\n",
      "jupyterlab-pygments==0.2.2\n",
      "keras2onnx==1.6.0\n",
      "kiwisolver==1.4.4\n",
      "knack==0.10.1\n",
      "korean-lunar-calendar @ file:///home/conda/feedstock_root/build_artifacts/korean_lunar_calendar_1663341251025/work\n",
      "lightgbm==3.2.1\n",
      "llvmlite==0.38.1\n",
      "locket==1.0.0\n",
      "LunarCalendar==0.0.9\n",
      "MarkupSafe==2.1.2\n",
      "matplotlib==3.7.2\n",
      "matplotlib-inline==0.1.6\n",
      "mistune==3.0.1\n",
      "ml-wrappers==0.4.11\n",
      "mlflow-skinny==2.4.1\n",
      "mltable==1.4.1\n",
      "msal==1.22.0\n",
      "msal-extensions==1.0.0\n",
      "msgpack==1.0.5\n",
      "msrest==0.7.1\n",
      "msrestazure==0.6.4\n",
      "nbclient==0.8.0\n",
      "nbconvert==7.6.0\n",
      "nbformat==5.9.0\n",
      "ndg-httpsclient==0.5.1\n",
      "nest-asyncio==1.5.6\n",
      "networkx==2.5\n",
      "notebook==6.4.9\n",
      "numba==0.55.2\n",
      "numpy==1.22.3\n",
      "oauthlib==3.2.2\n",
      "onnx==1.13.1\n",
      "onnxconverter-common==1.6.0\n",
      "onnxmltools==1.4.1\n",
      "onnxruntime==1.11.1\n",
      "opencensus==0.11.2\n",
      "opencensus-context==0.1.3\n",
      "opencensus-ext-azure==1.1.9\n",
      "packaging==23.0\n",
      "pandas==1.1.5\n",
      "pandocfilters==1.5.0\n",
      "paramiko==3.2.0\n",
      "parso==0.8.3\n",
      "partd==1.4.0\n",
      "pathspec==0.11.1\n",
      "patsy==0.5.3\n",
      "pexpect==4.8.0\n",
      "pickleshare==0.7.5\n",
      "Pillow==10.0.0\n",
      "pkginfo==1.9.6\n",
      "pkgutil_resolve_name==1.3.10\n",
      "platformdirs @ file:///home/conda/feedstock_root/build_artifacts/platformdirs_1688739404342/work\n",
      "pmdarima==1.8.0\n",
      "pooch @ file:///home/conda/feedstock_root/build_artifacts/pooch_1679580333621/work\n",
      "portalocker==2.7.0\n",
      "prometheus-client==0.17.0\n",
      "prompt-toolkit==3.0.39\n",
      "property-cached==1.6.4\n",
      "protobuf==3.20.3\n",
      "psutil @ file:///home/conda/feedstock_root/build_artifacts/psutil_1681775007745/work\n",
      "ptyprocess==0.7.0\n",
      "pure-eval==0.2.2\n",
      "py-cpuinfo==5.0.0\n",
      "pyarrow==9.0.0\n",
      "pyasn1==0.5.0\n",
      "pyasn1-modules==0.3.0\n",
      "pycparser @ file:///home/conda/feedstock_root/build_artifacts/pycparser_1636257122734/work\n",
      "pydantic==1.10.11\n",
      "Pygments==2.15.1\n",
      "PyJWT==2.7.0\n",
      "PyMeeus @ file:///home/conda/feedstock_root/build_artifacts/pymeeus_1670868433998/work\n",
      "PyNaCl==1.5.0\n",
      "pyOpenSSL @ file:///home/conda/feedstock_root/build_artifacts/pyopenssl_1685514481738/work\n",
      "pyparsing==3.0.9\n",
      "PySocks @ file:///home/conda/feedstock_root/build_artifacts/pysocks_1661604839144/work\n",
      "pystan==2.19.1.1\n",
      "python-dateutil @ file:///home/conda/feedstock_root/build_artifacts/python-dateutil_1626286286081/work\n",
      "pytz @ file:///home/conda/feedstock_root/build_artifacts/pytz_1680088766131/work\n",
      "PyYAML==6.0\n",
      "pyzmq==25.1.0\n",
      "raiutils==0.4.0\n",
      "referencing==0.29.1\n",
      "requests @ file:///home/conda/feedstock_root/build_artifacts/requests_1684774241324/work\n",
      "requests-oauthlib==1.3.1\n",
      "responsibleai==0.28.0\n",
      "rpds-py==0.8.8\n",
      "rsa==4.9\n",
      "s3transfer==0.5.2\n",
      "scikit-learn==0.22.1\n",
      "scipy==1.5.3\n",
      "SecretStorage==3.3.3\n",
      "semver==2.13.0\n",
      "Send2Trash==1.8.2\n",
      "setuptools-git==1.2\n",
      "shap==0.41.0\n",
      "six @ file:///home/conda/feedstock_root/build_artifacts/six_1620240208055/work\n",
      "skl2onnx==1.4.9\n",
      "sklearn-pandas==1.7.0\n",
      "slicer==0.0.7\n",
      "smart-open==1.9.0\n",
      "smmap==5.0.0\n",
      "sortedcontainers==2.4.0\n",
      "soupsieve==2.4.1\n",
      "sparse==0.14.0\n",
      "sqlparse==0.4.4\n",
      "stack-data==0.6.2\n",
      "statsmodels==0.11.1\n",
      "tabulate==0.9.0\n",
      "tblib==2.0.0\n",
      "termcolor==2.3.0\n",
      "terminado==0.17.1\n",
      "tinycss2==1.2.1\n",
      "toolz==0.12.0\n",
      "tornado==6.3.2\n",
      "tqdm==4.65.0\n",
      "traitlets==5.9.0\n",
      "typing_extensions @ file:///home/conda/feedstock_root/build_artifacts/typing_extensions_1688315532570/work\n",
      "urllib3==1.26.16\n",
      "wcwidth==0.2.6\n",
      "webencodings==0.5.1\n",
      "websocket-client==1.6.1\n",
      "Werkzeug==2.3.6\n",
      "wrapt==1.12.1\n",
      "xgboost==1.3.3\n",
      "zict==3.0.0\n",
      "zipp==3.15.0\n",
      "\n",
      "2024-06-08T17:10:09,560812374+00:00 | gunicorn/run | \n",
      "2024-06-08T17:10:09,569417474+00:00 | gunicorn/run | ###############################################\n",
      "2024-06-08T17:10:09,572172174+00:00 | gunicorn/run | Checking if the Python package azureml-inference-server-http is installed\n",
      "2024-06-08T17:10:09,576215374+00:00 | gunicorn/run | ###############################################\n",
      "2024-06-08T17:10:09,578871274+00:00 | gunicorn/run | \n",
      "2024-06-08T17:10:13,476040036+00:00 | gunicorn/run | \n",
      "2024-06-08T17:10:13,478092055+00:00 | gunicorn/run | ###############################################\n",
      "2024-06-08T17:10:13,484022910+00:00 | gunicorn/run | AzureML Inference Server\n",
      "2024-06-08T17:10:13,486390632+00:00 | gunicorn/run | ###############################################\n",
      "2024-06-08T17:10:13,488504051+00:00 | gunicorn/run | \n",
      "2024-06-08T17:10:17,425197722+00:00 | gunicorn/run | Starting AzureML Inference Server HTTP.\n",
      "2024-06-08 17:10:17,867 I [72] azmlinfsrv - Loaded logging config from /azureml-envs/azureml-automl/lib/python3.8/site-packages/azureml_inference_server_http/logging.json\n",
      "2024-06-08 17:10:18,255 I [72] gunicorn.error - Starting gunicorn 20.1.0\n",
      "2024-06-08 17:10:18,256 I [72] gunicorn.error - Listening at: http://0.0.0.0:31311 (72)\n",
      "2024-06-08 17:10:18,256 I [72] gunicorn.error - Using worker: sync\n",
      "2024-06-08 17:10:18,260 I [130] gunicorn.error - Booting worker with pid: 130\n",
      "\n",
      "Azure ML Inferencing HTTP server v0.8.4\n",
      "\n",
      "\n",
      "Server Settings\n",
      "/azureml-envs/azureml-automl/lib/python3.8/site-packages/azureml_inference_server_http/server/config.py:51: FutureWarning: aliases are no longer used by BaseSettings to define which environment variables to read. Instead use the \"env\" field setting. See https://pydantic-docs.helpmanual.io/usage/settings/#environment-variable-names\n",
      "  class AMLInferenceServerConfig(pydantic.BaseSettings):\n",
      "---------------\n",
      "Entry Script Name: /var/azureml-app/main.py\n",
      "Model Directory: /var/azureml-app/azureml-models/automl_best_model/1\n",
      "Config File: None\n",
      "Worker Count: 1\n",
      "Worker Timeout (seconds): 300\n",
      "Server Port: 31311\n",
      "Health Port: 31311\n",
      "Application Insights Enabled: false\n",
      "Application Insights Key: None\n",
      "Inferencing HTTP server version: azmlinfsrv/0.8.4\n",
      "CORS for the specified origins: None\n",
      "Create dedicated endpoint for health: None\n",
      "\n",
      "\n",
      "Server Routes\n",
      "---------------\n",
      "Liveness Probe: GET   127.0.0.1:31311/\n",
      "Score:          POST  127.0.0.1:31311/score\n",
      "\n",
      "2024-06-08 17:10:19,393 I [130] azmlinfsrv - AML_FLASK_ONE_COMPATIBILITY is set. Patched Flask to ensure compatibility with Flask 1.\n",
      "Initializing logger\n",
      "2024-06-08 17:10:19,396 I [130] azmlinfsrv - Starting up app insights client\n",
      "2024-06-08 17:10:20,331 I [130] azmlinfsrv.user_script - Found driver script at /var/azureml-app/main.py and the score script at /var/azureml-app/score_automl.py\n",
      "2024-06-08 17:10:20,331 I [130] azmlinfsrv.user_script - run() is not decorated. Server will invoke it with the input in JSON string.\n",
      "2024-06-08 17:10:20,332 I [130] azmlinfsrv.user_script - Invoking user's init function\n",
      "ERROR:fbprophet.plot:Importing plotly failed. Interactive plots will not work.\n",
      "2024-06-08 17:10:32,462 I [130] azmlinfsrv.user_script - Users's init has completed successfully\n",
      "2024-06-08 17:10:32,467 I [130] azmlinfsrv.swagger - Swaggers are prepared for the following versions: [2, 3, 3.1].\n",
      "2024-06-08 17:10:32,468 I [130] azmlinfsrv - Scoring timeout is set to 60000\n",
      "2024-06-08 17:11:08,517 W [130] azmlinfsrv - x-ms-request-id header has been deprecated and will be removed from future versions of the server. Please use x-ms-client-request-id.\n",
      "2024-06-08 17:11:08,522 I [130] gunicorn.access - 127.0.0.1 - - [08/Jun/2024:17:11:08 +0000] \"GET / HTTP/1.0\" 200 7 \"-\" \"Go-http-client/1.1\"\n",
      "2024-06-08 17:11:08,528 W [130] azmlinfsrv - x-ms-request-id header has been deprecated and will be removed from future versions of the server. Please use x-ms-client-request-id.\n",
      "2024-06-08 17:11:08,529 I [130] azmlinfsrv - GET /swagger.json 200 1.233ms 2206\n",
      "2024-06-08 17:11:08,530 I [130] gunicorn.access - 127.0.0.1 - - [08/Jun/2024:17:11:08 +0000] \"GET /swagger.json HTTP/1.0\" 200 2206 \"-\" \"Go-http-client/1.1\"\n",
      "2024-06-08 17:11:10,573 W [130] azmlinfsrv - x-ms-request-id header has been deprecated and will be removed from future versions of the server. Please use x-ms-client-request-id.\n",
      "2024-06-08 17:11:10,574 I [130] gunicorn.access - 127.0.0.1 - - [08/Jun/2024:17:11:10 +0000] \"GET / HTTP/1.0\" 200 7 \"-\" \"Go-http-client/1.1\"\n",
      "2024-06-08 17:11:10,584 W [130] azmlinfsrv - x-ms-request-id header has been deprecated and will be removed from future versions of the server. Please use x-ms-client-request-id.\n",
      "2024-06-08 17:11:10,584 I [130] azmlinfsrv - GET /swagger.json 200 0.789ms 2206\n",
      "2024-06-08 17:11:10,586 I [130] gunicorn.access - 127.0.0.1 - - [08/Jun/2024:17:11:10 +0000] \"GET /swagger.json HTTP/1.0\" 200 2206 \"-\" \"Go-http-client/1.1\"\n",
      "2024-06-08 17:14:07,249 W [130] azmlinfsrv - x-ms-request-id header has been deprecated and will be removed from future versions of the server. Please use x-ms-client-request-id.\n",
      "2024-06-08 17:14:07,274 I [130] azmlinfsrv - POST /score 200 25.183ms 19\n",
      "2024-06-08 17:14:07,275 I [130] gunicorn.access - 127.0.0.1 - - [08/Jun/2024:17:14:07 +0000] \"POST /score HTTP/1.0\" 200 19 \"-\" \"python-requests/2.31.0\"\n",
      "\n"
     ]
    },
    {
     "name": "stdout",
     "output_type": "stream",
     "text": [
      "Running\n",
      "2024-06-08 17:23:20+00:00 Check and wait for operation (4f3c971a-5883-412c-89f8-fd33c6f258e6) to finish.\n",
      "2024-06-08 17:23:20+00:00 Deleting service.\n",
      "2024-06-08 17:23:24+00:00 Deleting service entity.\n",
      "Succeeded\n"
     ]
    }
   ],
   "source": [
    "print(service.get_logs())\n",
    "\n",
    "service.delete()"
   ]
  },
  {
   "cell_type": "markdown",
   "metadata": {},
   "source": [
    "**Submission Checklist**\n",
    "- I have registered the model.\n",
    "- I have deployed the model with the best accuracy as a webservice.\n",
    "- I have tested the webservice by sending a request to the model endpoint.\n",
    "- I have deleted the webservice and shutdown all the computes that I have used.\n",
    "- I have taken a screenshot showing the model endpoint as active.\n",
    "- The project includes a file containing the environment details.\n"
   ]
  }
 ],
 "metadata": {
  "kernel_info": {
   "name": "python38-azureml"
  },
  "kernelspec": {
   "display_name": "Python 3.8 - AzureML",
   "language": "python",
   "name": "python38-azureml"
  },
  "language_info": {
   "codemirror_mode": {
    "name": "ipython",
    "version": 3
   },
   "file_extension": ".py",
   "mimetype": "text/x-python",
   "name": "python",
   "nbconvert_exporter": "python",
   "pygments_lexer": "ipython3",
   "version": "3.8.5"
  },
  "microsoft": {
   "host": {
    "AzureML": {
     "notebookHasBeenCompleted": true
    }
   },
   "ms_spell_check": {
    "ms_spell_check_language": "en"
   }
  },
  "nteract": {
   "version": "nteract-front-end@1.0.0"
  }
 },
 "nbformat": 4,
 "nbformat_minor": 2
}
